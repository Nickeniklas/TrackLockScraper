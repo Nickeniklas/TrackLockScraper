{
 "cells": [
  {
   "cell_type": "markdown",
   "id": "0cd0009c-bf55-434b-90ac-c6ac5da25b4f",
   "metadata": {},
   "source": [
    "# Tracklock\n",
    "\n",
    "scrape my deadlock data\n",
    "\n",
    "discover\n",
    "\n",
    "look at interesting stats\n",
    "\n",
    "https://tracklock.gg/players/113272695/matches?page=1"
   ]
  },
  {
   "cell_type": "code",
   "execution_count": 7,
   "id": "00bad221-f426-4963-bb11-8992f8d45c71",
   "metadata": {},
   "outputs": [],
   "source": [
    "import requests # to scrape the data\n",
    "from bs4 import BeautifulSoup # to handle the data\n",
    "import re # for getting wins AND losses \n",
    "import pandas as pd # for dataframes\n",
    "import csv # to create csv file \n",
    "import os # to check if file exsists already"
   ]
  },
  {
   "cell_type": "markdown",
   "id": "2938be20-57e5-4b31-9a6c-2e12671fa660",
   "metadata": {},
   "source": [
    "### Pull the data:"
   ]
  },
  {
   "cell_type": "code",
   "execution_count": 9,
   "id": "e6641b5e-2cba-4899-82fa-b0b38e7aeffc",
   "metadata": {},
   "outputs": [
    {
     "data": {
      "text/plain": [
       "<Response [200]>"
      ]
     },
     "execution_count": 9,
     "metadata": {},
     "output_type": "execute_result"
    }
   ],
   "source": [
    "# get tracklock page respons with requests\n",
    "res = requests.get(\"https://tracklock.gg/players/113272695/matches?page=1\")\n",
    "res"
   ]
  },
  {
   "cell_type": "markdown",
   "id": "dbdb78e4-7fb0-46bf-9f90-d975d2010810",
   "metadata": {},
   "source": [
    "### Read the data with BeautifulSoup\n",
    "\n",
    "and look at the data"
   ]
  },
  {
   "cell_type": "code",
   "execution_count": 11,
   "id": "3e427cb8-dc95-4914-b13d-7ea919acdd7a",
   "metadata": {},
   "outputs": [
    {
     "data": {
      "text/plain": [
       "<!DOCTYPE html>\n",
       "<html lang=\"en\"><head><meta charset=\"utf-8\"/><meta content=\"width=device-width, initial-scale=1, maximum-scale=1, viewport-fit=cover\" name=\"viewport\"/><link as=\"image\" href=\"/web-app-manifest-512x512.png\" rel=\"preload\"/><link data-precedence=\"next\" href=\"/_next/static/css/8371e607aa17afbc.css\" rel=\"stylesheet\"/><link as=\"script\" fetchpriority=\"low\" href=\"/_next/static/chunks/webpack-286e4964c88b060c.js\" rel=\"preload\"/><script async=\"\" src=\"/_next/static/chunks/4bd1b696-da1e8c6ae8a01c9a.js\"></script><script async=\"\" src=\"/_next/static/chunks/6215-b1a23dc1c5543a73.js\"></script><script async=\"\" src=\"/_next/static/chunks/main-app-ba042e326a7230d0.js\"></script><script async=\"\" src=\"/_next/static/chunks/8173-c00e07172c6e21c0.js\"></script><script async=\"\" src=\"/_next/static/chunks/4552-2f902cb32b531943.js\"></script><script async=\"\" src=\"/_next/static/chunks/app/layout-a0592442a4203ef5.js\"></script><link as=\"script\" href=\"https://www.googletagmanager.com/gtag/js?id=G-L70ZKKTLC4\" rel=\"preload\"/><meta name=\"next-size-adjust\"/><title>Deadlock Stats - tracklock.gg</title><meta content=\"tracklock.gg - Your go-to resource for Deadlock hero and player statistics. Explore detailed hero stats, player performance metrics, match history, and rankings. Analyze the meta with tier lists and improve your gameplay.\" name=\"description\"/><meta content=\"Deadlock,Deadlock hero stats,Deadlock mmr tracker,Deadlock player stats,Deadlock match history,Deadlock tier list\" name=\"keywords\"/><meta content=\"no-referrer-when-downgrade\" name=\"referrer\"/><meta content=\"index, follow\" name=\"robots\"/><meta content=\"index, follow, max-video-preview:-1, max-image-preview:large, max-snippet:-1\" name=\"googlebot\"/><meta content=\"Deadlock Stats - tracklock.gg\" property=\"og:title\"/><meta content=\"Deadlock hero and player stats tracker.\" property=\"og:description\"/><meta content=\"https://tracklock.gg\" property=\"og:url\"/><meta content=\"tracklock.gg\" property=\"og:site_name\"/><meta content=\"en_US\" property=\"og:locale\"/><meta content=\"Deadlock Stats - tracklock.gg\" property=\"og:image:alt\"/><meta content=\"image/png\" property=\"og:image:type\"/><meta content=\"https://tracklock.gg/players/113272695/opengraph-image?15cd3e324c4effd5\" property=\"og:image\"/><meta content=\"1200\" property=\"og:image:width\"/><meta content=\"630\" property=\"og:image:height\"/><meta content=\"website\" property=\"og:type\"/><meta content=\"summary_large_image\" name=\"twitter:card\"/><meta content=\"Deadlock Stats - tracklock.gg\" name=\"twitter:title\"/><meta content=\"Deadlock hero and player stats tracker.\" name=\"twitter:description\"/><meta content=\"Deadlock Stats - tracklock.gg\" name=\"twitter:image:alt\"/><meta content=\"image/png\" name=\"twitter:image:type\"/><meta content=\"https://tracklock.gg/players/113272695/opengraph-image?15cd3e324c4effd5\" name=\"twitter:image\"/><meta content=\"1200\" name=\"twitter:image:width\"/><meta content=\"630\" name=\"twitter:image:height\"/><link href=\"/favicon.ico\" rel=\"icon\" sizes=\"48x48\" type=\"image/x-icon\"/><script nomodule=\"\" src=\"/_next/static/chunks/polyfills-42372ed130431b0a.js\"></script></head><body class=\"__className_47416d flex flex-col bg-[#0E1015] min-h-screen overflow-x-hidden\"><div class=\"fixed inset-0 z-0\"><div class=\"relative w-full h-full\"><img alt=\"Background\" class=\"opacity-5 object-contain object-top\" data-nimg=\"fill\" decoding=\"async\" sizes=\"100vw\" src=\"/_next/image?url=%2Fbackground_faded.jpg&amp;w=3840&amp;q=50\" srcset=\"/_next/image?url=%2Fbackground_faded.jpg&amp;w=640&amp;q=50 640w, /_next/image?url=%2Fbackground_faded.jpg&amp;w=750&amp;q=50 750w, /_next/image?url=%2Fbackground_faded.jpg&amp;w=828&amp;q=50 828w, /_next/image?url=%2Fbackground_faded.jpg&amp;w=1080&amp;q=50 1080w, /_next/image?url=%2Fbackground_faded.jpg&amp;w=1200&amp;q=50 1200w, /_next/image?url=%2Fbackground_faded.jpg&amp;w=1920&amp;q=50 1920w, /_next/image?url=%2Fbackground_faded.jpg&amp;w=2048&amp;q=50 2048w, /_next/image?url=%2Fbackground_faded.jpg&amp;w=3840&amp;q=50 3840w\" style=\"position:absolute;height:100%;width:100%;left:0;top:0;right:0;bottom:0;color:transparent\"/></div></div><div class=\"relative z-10 flex flex-col min-h-screen\"><header class=\"shadow-2xl w-full\"><div class=\"max-w-6xl px-2 py-2 mx-auto\"><div class=\"flex justify-between items-center\"><a class=\"flex items-center gap-2\" href=\"/\"><svg height=\"32\" style=\"fill-rule:evenodd;clip-rule:evenodd;stroke-linejoin:round;stroke-miterlimit:2\" version=\"1.1\" viewbox=\"0 0 2879 411\" width=\"224.15571776155718\" xml:space=\"preserve\" xmlns=\"http://www.w3.org/2000/svg\" xmlns:xlink=\"http://www.w3.org/1999/xlink\"><g transform=\"matrix(1,0,0,1,-344.814,-1589.07)\"><g transform=\"matrix(1,0,0,1,-605.186,1300)\"><g transform=\"matrix(1,0,0,1,150,0)\"><path d=\"M800,298.139L800,415.678C829.018,367.021 869.761,335.951 913.436,322.175L913.436,585.978C913.436,627.014 911.091,659.843 896.142,700L1035.08,700C1020.13,659.843 1018.08,627.014 1018.08,585.978L1018.08,322.175C1061.75,335.951 1102.2,367.021 1131.22,415.678L1131.22,298.139L800,298.139Z\" style=\"fill:rgb(239,222,191);fill-rule:nonzero\"></path></g></g><g transform=\"matrix(1,0,0,1,-605.186,1300)\"><g transform=\"matrix(1,0,0,1,130,0)\"><path d=\"M1172.84,298.139C1187.79,338.003 1189.84,370.539 1189.84,411.575L1189.84,585.978C1189.84,627.014 1187.79,659.843 1172.84,700L1311.49,700C1296.54,659.843 1294.19,627.014 1294.19,585.978L1294.19,308.105C1378.32,309.277 1413.49,358.814 1413.49,408.937C1413.49,460.818 1375.68,513.579 1315.3,513.579C1315.3,601.513 1372.16,700 1455.41,700L1508.75,601.513C1494.98,607.669 1481.49,610.307 1468.6,610.307C1420.53,610.307 1380.37,572.202 1353.69,527.062C1465.96,522.079 1514.03,465.801 1514.03,410.402C1514.03,353.831 1464.2,298.139 1383.01,298.139L1172.84,298.139Z\" style=\"fill:rgb(239,222,191);fill-rule:nonzero\"></path></g></g><g transform=\"matrix(1,0,0,1,-605.186,1300)\"><g transform=\"matrix(1,0,0,1,110,0)\"><path d=\"M1628.34,298.139C1634.79,311.622 1641.53,327.157 1648.57,344.451L1516.08,700L1572.07,700C1562.1,688.862 1553.6,673.913 1553.6,658.378C1553.6,653.395 1554.48,648.705 1556.24,643.722L1583.79,569.857C1647.4,570.15 1731.81,602.979 1754.97,700L1875.44,700L1740.61,298.139L1628.34,298.139ZM1659.12,368.487C1693.41,452.025 1733.28,561.357 1748.52,640.791C1725.07,601.806 1678.17,554.908 1590.24,553.149L1659.12,368.487Z\" style=\"fill:rgb(239,222,191);fill-rule:nonzero\"></path></g></g><g transform=\"matrix(1,0,0,1,-605.186,1300)\"><g transform=\"matrix(1,0,0,1,80,0)\"><path d=\"M2077.4,296.087L2076.81,296.087C1973.05,296.087 1876.61,365.556 1869.87,481.629C1869.58,485.147 1869.58,488.957 1869.58,492.474C1869.58,600.048 1953.12,700 2128.4,700L2212.23,561.063C2163.87,581.581 2123.12,590.375 2088.83,590.375C1985.36,590.375 1944.62,510.061 1944.62,437.662C1944.62,389.005 1962.79,344.158 1992.98,328.916C2003.82,323.347 2014.96,321.002 2025.81,321.002C2089.71,321.002 2150.09,406.299 2150.97,471.956L2231.58,355.297C2185.85,314.847 2130.74,296.38 2077.4,296.087Z\" style=\"fill:rgb(239,222,191);fill-rule:nonzero\"></path></g></g><g transform=\"matrix(1,0,0,1,-605.186,1300)\"><g transform=\"matrix(1,0,0,1,60,0)\"><path d=\"M2264.7,298.139C2279.65,338.003 2281.99,370.539 2281.99,411.575L2281.99,585.978C2281.99,627.014 2279.94,659.843 2264.7,700L2403.63,700C2388.68,659.843 2386.63,627.014 2386.63,585.978L2386.63,298.139L2264.7,298.139ZM2503,298.139C2515.02,311.036 2521.76,325.399 2521.76,339.761C2521.76,349.141 2518.53,358.521 2512.38,367.314L2406.86,513.579C2406.86,601.513 2460.2,700 2546.09,700L2600.9,601.513C2588.3,606.789 2575.4,609.427 2562.5,609.427C2504.47,609.427 2449.07,559.012 2432.95,508.889L2584.78,298.139L2503,298.139Z\" style=\"fill:rgb(239,222,191);fill-rule:nonzero\"></path></g></g><g transform=\"matrix(1,0,0,1,-389.707,1300)\"><path d=\"M2459.91,298.139C2474.86,338.296 2476.91,370.832 2476.91,412.161L2476.91,586.564C2476.91,627.601 2474.57,660.136 2459.91,700L2895.39,700L2895.39,582.461C2857.28,646.067 2685.02,685.051 2609.4,685.051L2581.55,685.051L2581.55,298.139L2459.91,298.139Z\" style=\"fill:rgb(239,222,191);fill-rule:nonzero\"></path></g><g transform=\"matrix(0.534856,0,0,0.67419,735.86,1388.07)\"><path d=\"M3068.42,298.139C2900.46,298.139 2812.24,407.764 2812.24,512.699C2812.24,608.255 2886.1,700 3039.4,700C3207.36,700 3295.58,590.375 3295.58,485.44C3295.58,389.884 3222.01,298.139 3068.42,298.139ZM2990.16,328.33L2990.45,328.33C3089.82,328.33 3202.37,479.284 3202.37,581.288C3202.37,616.462 3188.89,646.067 3156.65,661.309C3144.04,667.171 3130.85,670.102 3117.66,670.102C3018.3,670.102 2905.74,519.441 2905.74,417.437C2905.74,381.97 2919.22,352.365 2951.76,337.123C2964.07,330.968 2976.97,328.33 2990.16,328.33Z\" style=\"fill:rgb(239,222,191);fill-rule:nonzero\"></path></g><g transform=\"matrix(1,0,0,1,-809.707,1300)\"><path d=\"M3539.16,296.087L3538.58,296.087C3434.81,296.087 3338.38,365.556 3331.64,481.629C3331.34,485.147 3331.34,488.957 3331.34,492.474C3331.34,600.048 3414.88,700 3590.16,700L3673.99,561.063C3625.63,581.581 3584.89,590.375 3550.59,590.375C3447.12,590.375 3406.38,510.061 3406.38,437.662C3406.38,389.005 3424.55,344.158 3454.74,328.916C3465.59,323.347 3476.73,321.002 3487.57,321.002C3551.47,321.002 3611.85,406.299 3612.73,471.956L3693.34,355.297C3647.61,314.847 3592.51,296.38 3539.16,296.087Z\" style=\"fill:rgb(239,222,191);fill-rule:nonzero\"></path></g><g transform=\"matrix(1,0,0,1,-839.707,1300)\"><path d=\"M3726.46,298.139C3741.41,338.003 3743.76,370.539 3743.76,411.575L3743.76,585.978C3743.76,627.014 3741.7,659.843 3726.46,700L3865.4,700C3850.45,659.843 3848.4,627.014 3848.4,585.978L3848.4,298.139L3726.46,298.139ZM3964.76,298.139C3976.78,311.036 3983.52,325.399 3983.52,339.761C3983.52,349.141 3980.3,358.521 3974.14,367.314L3868.62,513.579C3868.62,601.513 3921.97,700 4007.85,700L4062.66,601.513C4050.06,606.789 4037.16,609.427 4024.27,609.427C3966.23,609.427 3910.83,559.012 3894.71,508.889L4046.54,298.139L3964.76,298.139Z\" style=\"fill:rgb(239,222,191);fill-rule:nonzero\"></path></g></g></svg></a></div><nav class=\"hidden md:hidden mt-4 font-sapient\"><ul class=\"flex flex-col\"><li><a class=\"block py-2 text-[#ecdfc2] hover:text-white font-semibold font-sapient\" href=\"/ranks\">Ranks</a></li><li><a class=\"block py-2 text-[#ecdfc2] hover:text-white font-semibold font-sapient\" href=\"/live\">Live</a></li><li><a class=\"block py-2 text-[#ecdfc2] hover:text-white font-semibold font-sapient\" href=\"/leaderboard/na/1\">Leaderboard</a></li><li><a class=\"block py-2 text-[#ecdfc2] hover:text-white font-semibold font-sapient\" href=\"/heroes\">Heroes</a></li><li><a class=\"block py-2 text-[#ecdfc2] hover:text-white font-semibold font-sapient\" href=\"/items\">Items</a></li><li><a class=\"block py-2 text-white hover:text-blue-400 font-semibold\" href=\"/login\">Login</a></li></ul></nav></div></header><main class=\"flex-grow w-full max-w-6xl mx-auto md:px-4 relative z-10\"><!--$?--><template id=\"B:0\"></template><div class=\"flex justify-center items-center h-64\"><div class=\"animate-spin rounded-full h-16 w-16 border-t-2 border-b-2 border-blue-400\"></div></div><!--/$--></main><footer class=\"flex justify-center items-center bg-[#181A20] border-t border-[#1f2025] text-white font-roboto text-base font-normal mt-auto p-8 z-10\"><div class=\"flex flex-col md:flex-row justify-between container mx-auto space-y-8 md:space-y-0 max-w-6xl\"><div><div class=\"flex items-center mb-4\"><div class=\"lazyload-wrapper\"><img alt=\"Tracklock Brand\" class=\"h-8 w-8 mr-2\" src=\"/web-app-manifest-512x512.png\"/></div><span class=\"font-bold\">Tracklock</span></div><p class=\"text-sm mb-2\"><span class=\"font-bold\">Tracklock.gg</span> is not affiliated with or endorsed by Valve Corporation.<br/><span class=\"font-bold\">Tracklock.gg</span> is the number one Deadlock match tracker.</p><p class=\"text-sm\">© Tracklock.gg 2024</p></div><div><h4 class=\"text-md font-semibold mb-4\">Links</h4><ul class=\"text-sm\"><li class=\"mb-2\"><a class=\"hover:underline\" href=\"/cdn-cgi/l/email-protection#82f5ebeeeec2f6f0e3e1e9eeede1e9ace5e5\" rel=\"noopener noreferrer\" target=\"_blank\">Contact</a></li><li><a class=\"hover:underline\" href=\"/privacy-policy/\">Privacy Policy</a></li></ul></div><div><h4 class=\"text-md font-semibold mb-4\">Resources</h4><ul class=\"text-sm\"><li class=\"mb-2\"><a class=\"hover:underline\" href=\"/deadlock-invite\">Get Deadlock Invite</a></li><li class=\"mb-2\"><a class=\"hover:underline\" href=\"/deadlock-tier-list\">Deadlock Hero Tier List</a></li><li class=\"mb-2\"><a class=\"hover:underline\" href=\"/changelog/how-accurate-is-tracklock\">Changelog</a></li><li><a class=\"hover:underline\" href=\"/deadlock-tracker\">About Us</a></li></ul></div></div></footer></div><script data-cfasync=\"false\" src=\"/cdn-cgi/scripts/5c5dd728/cloudflare-static/email-decode.min.js\"></script><script async=\"\" src=\"/_next/static/chunks/webpack-286e4964c88b060c.js\"></script><div hidden=\"\" id=\"S:0\"><template id=\"P:1\"></template><template id=\"P:2\"></template></div><div hidden=\"\" id=\"S:2\"></div><script>$RS=function(a,b){a=document.getElementById(a);b=document.getElementById(b);for(a.parentNode.removeChild(a);a.firstChild;)b.parentNode.insertBefore(a.firstChild,b);b.parentNode.removeChild(b)};$RS(\"S:2\",\"P:2\")</script><script>(self.__next_f=self.__next_f||[]).push([0])</script><script>self.__next_f.push([1,\"4:\\\"$Sreact.fragment\\\"\\n5:I[64404,[\\\"8173\\\",\\\"static/chunks/8173-c00e07172c6e21c0.js\\\",\\\"4552\\\",\\\"static/chunks/4552-2f902cb32b531943.js\\\",\\\"3185\\\",\\\"static/chunks/app/layout-a0592442a4203ef5.js\\\"],\\\"GoogleAnalytics\\\"]\\n6:I[31491,[\\\"8173\\\",\\\"static/chunks/8173-c00e07172c6e21c0.js\\\",\\\"4552\\\",\\\"static/chunks/4552-2f902cb32b531943.js\\\",\\\"3185\\\",\\\"static/chunks/app/layout-a0592442a4203ef5.js\\\"],\\\"default\\\"]\\n7:I[38173,[\\\"8173\\\",\\\"static/chunks/8173-c00e07172c6e21c0.js\\\",\\\"4552\\\",\\\"static/chunks/4552-2f902cb32b531943.js\\\",\\\"3185\\\",\\\"static/chunks/app/layout-a0592442a4203ef5.js\\\"],\\\"Image\\\"]\\n8:I[19940,[\\\"8173\\\",\\\"static/chunks/8173-c00e07172c6e21c0.js\\\",\\\"4552\\\",\\\"static/chunks/4552-2f902cb32b531943.js\\\",\\\"3185\\\",\\\"static/chunks/app/layout-a0592442a4203ef5.js\\\"],\\\"default\\\"]\\n9:I[2228,[\\\"8173\\\",\\\"static/chunks/8173-c00e07172c6e21c0.js\\\",\\\"4552\\\",\\\"static/chunks/4552-2f902cb32b531943.js\\\",\\\"3185\\\",\\\"static/chunks/app/layout-a0592442a4203ef5.js\\\"],\\\"GGBet\\\"]\\na:I[39275,[],\\\"\\\"]\\nb:I[61343,[],\\\"\\\"]\\nd:I[53120,[],\\\"OutletBoundary\\\"]\\nf:I[53120,[],\\\"MetadataBoundary\\\"]\\n11:I[53120,[],\\\"ViewportBoundary\\\"]\\n13:I[76130,[],\\\"\\\"]\\n1:HL[\\\"/_next/static/media/4bcb60b63075eb7f-s.p.woff2\\\",\\\"font\\\",{\\\"crossOrigin\\\":\\\"\\\",\\\"type\\\":\\\"font/woff2\\\"}]\\n2:HL[\\\"/_next/static/media/4f05ba3a6752a328-s.p.woff2\\\",\\\"font\\\",{\\\"crossOrigin\\\":\\\"\\\",\\\"type\\\":\\\"font/woff2\\\"}]\\n3:HL[\\\"/_next/static/css/8371e607aa17afbc.css\\\",\\\"style\\\"]\\n\"])</script><script>self.__next_f.push([1,\"0:{\\\"P\\\":null,\\\"b\\\":\\\"lEdpbRq2Fldbw8cvhZ3hh\\\",\\\"p\\\":\\\"\\\",\\\"c\\\":[\\\"\\\",\\\"players\\\",\\\"113272695\\\",\\\"matches?page=1\\\"],\\\"i\\\":false,\\\"f\\\":[[[\\\"\\\",{\\\"children\\\":[\\\"players\\\",{\\\"children\\\":[[\\\"account_id\\\",\\\"113272695\\\",\\\"d\\\"],{\\\"children\\\":[\\\"matches\\\",{\\\"children\\\":[\\\"__PAGE__?{\\\\\\\"page\\\\\\\":\\\\\\\"1\\\\\\\"}\\\",{}]}]}]}]},\\\"$undefined\\\",\\\"$undefined\\\",true],[\\\"\\\",[\\\"$\\\",\\\"$4\\\",\\\"c\\\",{\\\"children\\\":[[[\\\"$\\\",\\\"link\\\",\\\"0\\\",{\\\"rel\\\":\\\"stylesheet\\\",\\\"href\\\":\\\"/_next/static/css/8371e607aa17afbc.css\\\",\\\"precedence\\\":\\\"next\\\",\\\"crossOrigin\\\":\\\"$undefined\\\",\\\"nonce\\\":\\\"$undefined\\\"}]],[\\\"$\\\",\\\"html\\\",null,{\\\"lang\\\":\\\"en\\\",\\\"children\\\":[[\\\"$\\\",\\\"$L5\\\",null,{\\\"gaId\\\":\\\"G-L70ZKKTLC4\\\"}],[\\\"$\\\",\\\"body\\\",null,{\\\"className\\\":\\\"__className_47416d flex flex-col bg-[#0E1015] min-h-screen overflow-x-hidden\\\",\\\"children\\\":[[\\\"$\\\",\\\"$L6\\\",null,{\\\"PUB_ID\\\":\\\"1025417\\\",\\\"WEBSITE_ID\\\":\\\"75303\\\"}],[\\\"$\\\",\\\"div\\\",null,{\\\"className\\\":\\\"fixed inset-0 z-0\\\",\\\"children\\\":[\\\"$\\\",\\\"div\\\",null,{\\\"className\\\":\\\"relative w-full h-full \\\",\\\"children\\\":[\\\"$\\\",\\\"$L7\\\",null,{\\\"src\\\":\\\"/background_faded.jpg\\\",\\\"alt\\\":\\\"Background\\\",\\\"className\\\":\\\"opacity-5 object-contain object-top\\\",\\\"fill\\\":true,\\\"quality\\\":50,\\\"priority\\\":true}]}]}],[\\\"$\\\",\\\"div\\\",null,{\\\"className\\\":\\\"relative z-10 flex flex-col min-h-screen\\\",\\\"children\\\":[[\\\"$\\\",\\\"$L8\\\",null,{}],[\\\"$\\\",\\\"main\\\",null,{\\\"className\\\":\\\"flex-grow w-full max-w-6xl mx-auto md:px-4 relative z-10\\\",\\\"children\\\":[[\\\"$\\\",\\\"$L9\\\",null,{}],[\\\"$\\\",\\\"$La\\\",null,{\\\"parallelRouterKey\\\":\\\"children\\\",\\\"segmentPath\\\":[\\\"children\\\"],\\\"error\\\":\\\"$undefined\\\",\\\"errorStyles\\\":\\\"$undefined\\\",\\\"errorScripts\\\":\\\"$undefined\\\",\\\"template\\\":[\\\"$\\\",\\\"$Lb\\\",null,{}],\\\"templateStyles\\\":\\\"$undefined\\\",\\\"templateScripts\\\":\\\"$undefined\\\",\\\"notFound\\\":[\\\"$\\\",\\\"div\\\",null,{\\\"className\\\":\\\"text-gray-100 py-8 flex items-center justify-center min-h-screen\\\",\\\"children\\\":[null,[\\\"$\\\",\\\"div\\\",null,{\\\"ref\\\":\\\"$undefined\\\",\\\"className\\\":\\\"bg-[#181A20] rounded-md text-card-foreground shadow-md border border-[#363636f7] max-w-md w-full\\\",\\\"children\\\":[[\\\"$\\\",\\\"div\\\",null,{\\\"ref\\\":\\\"$undefined\\\",\\\"className\\\":\\\"flex flex-col space-y-1.5 p-6\\\",\\\"children\\\":[\\\"$\\\",\\\"h3\\\",null,{\\\"ref\\\":\\\"$undefined\\\",\\\"className\\\":\\\"tracking-tight text-3xl font-semibold text-white font-sapient text-center\\\",\\\"children\\\":\\\"404 - Page Not Found\\\"}]}],[\\\"$\\\",\\\"div\\\",null,{\\\"ref\\\":\\\"$undefined\\\",\\\"className\\\":\\\"p-6 pt-0 text-center\\\",\\\"children\\\":[[\\\"$\\\",\\\"p\\\",null,{\\\"className\\\":\\\"text-gray-300 mb-6 font-open\\\",\\\"children\\\":\\\"Oops! The page you're looking for doesn't exist or has been moved.\\\"}],[\\\"$\\\",\\\"a\\\",null,{\\\"href\\\":\\\"/\\\",\\\"children\\\":[\\\"$\\\",\\\"button\\\",null,{\\\"className\\\":\\\"inline-flex items-center justify-center whitespace-nowrap text-sm font-medium transition-colors focus-visible:outline-none focus-visible:ring-1 focus-visible:ring-ring disabled:pointer-events-none disabled:opacity-50 text-primary-foreground shadow h-9 px-4 py-2 bg-blue-500 hover:bg-blue-600 font-open rounded-none\\\",\\\"ref\\\":\\\"$undefined\\\",\\\"children\\\":\\\"Return to Homepage\\\"}]}]]}]]}]]}],\\\"notFoundStyles\\\":[]}]]}],[\\\"$\\\",\\\"footer\\\",null,{\\\"className\\\":\\\"flex justify-center items-center bg-[#181A20] border-t border-[#1f2025] text-white font-roboto text-base font-normal mt-auto p-8 z-10\\\",\\\"children\\\":[\\\"$\\\",\\\"div\\\",null,{\\\"className\\\":\\\"flex flex-col md:flex-row justify-between container mx-auto space-y-8 md:space-y-0 max-w-6xl\\\",\\\"children\\\":[[\\\"$\\\",\\\"div\\\",null,{\\\"children\\\":[[\\\"$\\\",\\\"div\\\",null,{\\\"className\\\":\\\"flex items-center mb-4\\\",\\\"children\\\":[[\\\"$\\\",\\\"div\\\",null,{\\\"className\\\":\\\"lazyload-wrapper\\\",\\\"children\\\":[\\\"$\\\",\\\"img\\\",null,{\\\"className\\\":\\\"h-8 w-8 mr-2\\\",\\\"src\\\":\\\"/web-app-manifest-512x512.png\\\",\\\"alt\\\":\\\"Tracklock Brand\\\"}]}],[\\\"$\\\",\\\"span\\\",null,{\\\"className\\\":\\\"font-bold\\\",\\\"children\\\":\\\"Tracklock\\\"}]]}],[\\\"$\\\",\\\"p\\\",null,{\\\"className\\\":\\\"text-sm mb-2\\\",\\\"children\\\":[[\\\"$\\\",\\\"span\\\",null,{\\\"className\\\":\\\"font-bold\\\",\\\"children\\\":\\\"Tracklock.gg\\\"}],\\\" is not affiliated with or endorsed by Valve Corporation.\\\",[\\\"$\\\",\\\"br\\\",null,{}],[\\\"$\\\",\\\"span\\\",null,{\\\"className\\\":\\\"font-bold\\\",\\\"children\\\":\\\"Tracklock.gg\\\"}],\\\" is the number one Deadlock match tracker.\\\"]}],[\\\"$\\\",\\\"p\\\",null,{\\\"className\\\":\\\"text-sm\\\",\\\"children\\\":\\\"© Tracklock.gg 2024\\\"}]]}],[\\\"$\\\",\\\"div\\\",null,{\\\"children\\\":[[\\\"$\\\",\\\"h4\\\",null,{\\\"className\\\":\\\"text-md font-semibold mb-4\\\",\\\"children\\\":\\\"Links\\\"}],[\\\"$\\\",\\\"ul\\\",null,{\\\"className\\\":\\\"text-sm\\\",\\\"children\\\":[[\\\"$\\\",\\\"li\\\",null,{\\\"className\\\":\\\"mb-2\\\",\\\"children\\\":[\\\"$\\\",\\\"a\\\",null,{\\\"href\\\":\\\"mailto:will@tracklock.gg\\\",\\\"className\\\":\\\"hover:underline\\\",\\\"target\\\":\\\"_blank\\\",\\\"rel\\\":\\\"noopener noreferrer\\\",\\\"children\\\":\\\"Contact\\\"}]}],[\\\"$\\\",\\\"li\\\",null,{\\\"children\\\":[\\\"$\\\",\\\"a\\\",null,{\\\"href\\\":\\\"/privacy-policy/\\\",\\\"className\\\":\\\"hover:underline\\\",\\\"children\\\":\\\"Privacy Policy\\\"}]}]]}]]}],[\\\"$\\\",\\\"div\\\",null,{\\\"children\\\":[[\\\"$\\\",\\\"h4\\\",null,{\\\"className\\\":\\\"text-md font-semibold mb-4\\\",\\\"children\\\":\\\"Resources\\\"}],[\\\"$\\\",\\\"ul\\\",null,{\\\"className\\\":\\\"text-sm\\\",\\\"children\\\":[[\\\"$\\\",\\\"li\\\",null,{\\\"className\\\":\\\"mb-2\\\",\\\"children\\\":[\\\"$\\\",\\\"a\\\",null,{\\\"href\\\":\\\"/deadlock-invite\\\",\\\"className\\\":\\\"hover:underline\\\",\\\"children\\\":\\\"Get Deadlock Invite\\\"}]}],[\\\"$\\\",\\\"li\\\",null,{\\\"className\\\":\\\"mb-2\\\",\\\"children\\\":[\\\"$\\\",\\\"a\\\",null,{\\\"href\\\":\\\"/deadlock-tier-list\\\",\\\"className\\\":\\\"hover:underline \\\",\\\"children\\\":\\\"Deadlock Hero Tier List\\\"}]}],[\\\"$\\\",\\\"li\\\",null,{\\\"className\\\":\\\"mb-2\\\",\\\"children\\\":[\\\"$\\\",\\\"a\\\",null,{\\\"href\\\":\\\"/changelog/how-accurate-is-tracklock\\\",\\\"className\\\":\\\"hover:underline\\\",\\\"children\\\":\\\"Changelog\\\"}]}],[\\\"$\\\",\\\"li\\\",null,{\\\"children\\\":[\\\"$\\\",\\\"a\\\",null,{\\\"href\\\":\\\"/deadlock-tracker\\\",\\\"className\\\":\\\"hover:underline \\\",\\\"children\\\":\\\"About Us\\\"}]}]]}]]}]]}]}]]}]]}]]}]]}],{\\\"children\\\":[\\\"players\\\",[\\\"$\\\",\\\"$4\\\",\\\"c\\\",{\\\"children\\\":[null,[\\\"$\\\",\\\"$La\\\",null,{\\\"parallelRouterKey\\\":\\\"children\\\",\\\"segmentPath\\\":[\\\"children\\\",\\\"players\\\",\\\"children\\\"],\\\"error\\\":\\\"$undefined\\\",\\\"errorStyles\\\":\\\"$undefined\\\",\\\"errorScripts\\\":\\\"$undefined\\\",\\\"template\\\":[\\\"$\\\",\\\"$Lb\\\",null,{}],\\\"templateStyles\\\":\\\"$undefined\\\",\\\"templateScripts\\\":\\\"$undefined\\\",\\\"notFound\\\":\\\"$undefined\\\",\\\"notFoundStyles\\\":\\\"$undefined\\\"}]]}],{\\\"children\\\":[[\\\"account_id\\\",\\\"113272695\\\",\\\"d\\\"],[\\\"$\\\",\\\"$4\\\",\\\"c\\\",{\\\"children\\\":[null,[\\\"$\\\",\\\"$La\\\",null,{\\\"parallelRouterKey\\\":\\\"children\\\",\\\"segmentPath\\\":[\\\"children\\\",\\\"players\\\",\\\"children\\\",\\\"$0:f:0:1:2:children:2:children:0\\\",\\\"children\\\"],\\\"error\\\":\\\"$undefined\\\",\\\"errorStyles\\\":\\\"$undefined\\\",\\\"errorScripts\\\":\\\"$undefined\\\",\\\"template\\\":[\\\"$\\\",\\\"$Lb\\\",null,{}],\\\"templateStyles\\\":\\\"$undefined\\\",\\\"templateScripts\\\":\\\"$undefined\\\",\\\"notFound\\\":\\\"$undefined\\\",\\\"notFoundStyles\\\":\\\"$undefined\\\"}]]}],{\\\"children\\\":[\\\"matches\\\",[\\\"$\\\",\\\"$4\\\",\\\"c\\\",{\\\"children\\\":[null,[\\\"$\\\",\\\"$La\\\",null,{\\\"parallelRouterKey\\\":\\\"children\\\",\\\"segmentPath\\\":[\\\"children\\\",\\\"players\\\",\\\"children\\\",\\\"$0:f:0:1:2:children:2:children:0\\\",\\\"children\\\",\\\"matches\\\",\\\"children\\\"],\\\"error\\\":\\\"$undefined\\\",\\\"errorStyles\\\":\\\"$undefined\\\",\\\"errorScripts\\\":\\\"$undefined\\\",\\\"template\\\":[\\\"$\\\",\\\"$Lb\\\",null,{}],\\\"templateStyles\\\":\\\"$undefined\\\",\\\"templateScripts\\\":\\\"$undefined\\\",\\\"notFound\\\":\\\"$undefined\\\",\\\"notFoundStyles\\\":\\\"$undefined\\\"}]]}],{\\\"children\\\":[\\\"__PAGE__\\\",[\\\"$\\\",\\\"$4\\\",\\\"c\\\",{\\\"children\\\":[\\\"$Lc\\\",null,[\\\"$\\\",\\\"$Ld\\\",null,{\\\"children\\\":\\\"$Le\\\"}]]}],{},null]},null]},[[\\\"$\\\",\\\"div\\\",\\\"l\\\",{\\\"className\\\":\\\"flex justify-center items-center h-64\\\",\\\"children\\\":[\\\"$\\\",\\\"div\\\",null,{\\\"className\\\":\\\"animate-spin rounded-full h-16 w-16 border-t-2 border-b-2 border-blue-400\\\"}]}],[],[]]]},null]},null],[\\\"$\\\",\\\"$4\\\",\\\"h\\\",{\\\"children\\\":[null,[\\\"$\\\",\\\"$4\\\",\\\"-cVcMYEw3M8MLcpKG1ao7\\\",{\\\"children\\\":[[\\\"$\\\",\\\"$Lf\\\",null,{\\\"children\\\":\\\"$L10\\\"}],[\\\"$\\\",\\\"$L11\\\",null,{\\\"children\\\":\\\"$L12\\\"}],[\\\"$\\\",\\\"meta\\\",null,{\\\"name\\\":\\\"next-size-adjust\\\"}]]}]]}]]],\\\"m\\\":\\\"$undefined\\\",\\\"G\\\":[\\\"$13\\\",\\\"$undefined\\\"],\\\"s\\\":false,\\\"S\\\":false}\\n\"])</script><script>self.__next_f.push([1,\"12:[[\\\"$\\\",\\\"meta\\\",\\\"0\\\",{\\\"name\\\":\\\"viewport\\\",\\\"content\\\":\\\"width=device-width, initial-scale=1, maximum-scale=1, viewport-fit=cover\\\"}]]\\n\"])</script><script>self.__next_f.push([1,\"10:[[\\\"$\\\",\\\"meta\\\",\\\"0\\\",{\\\"charSet\\\":\\\"utf-8\\\"}],[\\\"$\\\",\\\"title\\\",\\\"1\\\",{\\\"children\\\":\\\"Deadlock Stats - tracklock.gg\\\"}],[\\\"$\\\",\\\"meta\\\",\\\"2\\\",{\\\"name\\\":\\\"description\\\",\\\"content\\\":\\\"tracklock.gg - Your go-to resource for Deadlock hero and player statistics. Explore detailed hero stats, player performance metrics, match history, and rankings. Analyze the meta with tier lists and improve your gameplay.\\\"}],[\\\"$\\\",\\\"meta\\\",\\\"3\\\",{\\\"name\\\":\\\"keywords\\\",\\\"content\\\":\\\"Deadlock,Deadlock hero stats,Deadlock mmr tracker,Deadlock player stats,Deadlock match history,Deadlock tier list\\\"}],[\\\"$\\\",\\\"meta\\\",\\\"4\\\",{\\\"name\\\":\\\"referrer\\\",\\\"content\\\":\\\"no-referrer-when-downgrade\\\"}],[\\\"$\\\",\\\"meta\\\",\\\"5\\\",{\\\"name\\\":\\\"robots\\\",\\\"content\\\":\\\"index, follow\\\"}],[\\\"$\\\",\\\"meta\\\",\\\"6\\\",{\\\"name\\\":\\\"googlebot\\\",\\\"content\\\":\\\"index, follow, max-video-preview:-1, max-image-preview:large, max-snippet:-1\\\"}],[\\\"$\\\",\\\"meta\\\",\\\"7\\\",{\\\"property\\\":\\\"og:title\\\",\\\"content\\\":\\\"Deadlock Stats - tracklock.gg\\\"}],[\\\"$\\\",\\\"meta\\\",\\\"8\\\",{\\\"property\\\":\\\"og:description\\\",\\\"content\\\":\\\"Deadlock hero and player stats tracker.\\\"}],[\\\"$\\\",\\\"meta\\\",\\\"9\\\",{\\\"property\\\":\\\"og:url\\\",\\\"content\\\":\\\"https://tracklock.gg\\\"}],[\\\"$\\\",\\\"meta\\\",\\\"10\\\",{\\\"property\\\":\\\"og:site_name\\\",\\\"content\\\":\\\"tracklock.gg\\\"}],[\\\"$\\\",\\\"meta\\\",\\\"11\\\",{\\\"property\\\":\\\"og:locale\\\",\\\"content\\\":\\\"en_US\\\"}],[\\\"$\\\",\\\"meta\\\",\\\"12\\\",{\\\"property\\\":\\\"og:image:alt\\\",\\\"content\\\":\\\"Deadlock Stats - tracklock.gg\\\"}],[\\\"$\\\",\\\"meta\\\",\\\"13\\\",{\\\"property\\\":\\\"og:image:type\\\",\\\"content\\\":\\\"image/png\\\"}],[\\\"$\\\",\\\"meta\\\",\\\"14\\\",{\\\"property\\\":\\\"og:image\\\",\\\"content\\\":\\\"https://tracklock.gg/players/113272695/opengraph-image?15cd3e324c4effd5\\\"}],[\\\"$\\\",\\\"meta\\\",\\\"15\\\",{\\\"property\\\":\\\"og:image:width\\\",\\\"content\\\":\\\"1200\\\"}],[\\\"$\\\",\\\"meta\\\",\\\"16\\\",{\\\"property\\\":\\\"og:image:height\\\",\\\"content\\\":\\\"630\\\"}],[\\\"$\\\",\\\"meta\\\",\\\"17\\\",{\\\"property\\\":\\\"og:type\\\",\\\"content\\\":\\\"website\\\"}],[\\\"$\\\",\\\"meta\\\",\\\"18\\\",{\\\"name\\\":\\\"twitter:card\\\",\\\"content\\\":\\\"summary_large_image\\\"}],[\\\"$\\\",\\\"meta\\\",\\\"19\\\",{\\\"name\\\":\\\"twitter:title\\\",\\\"content\\\":\\\"Deadlock Stats - tracklock.gg\\\"}],[\\\"$\\\",\\\"meta\\\",\\\"20\\\",{\\\"name\\\":\\\"twitter:description\\\",\\\"content\\\":\\\"Deadlock hero and player stats tracker.\\\"}],[\\\"$\\\",\\\"meta\\\",\\\"21\\\",{\\\"name\\\":\\\"twitter:image:alt\\\",\\\"content\\\":\\\"Deadlock Stats - tracklock.gg\\\"}],[\\\"$\\\",\\\"meta\\\",\\\"22\\\",{\\\"name\\\":\\\"twitter:image:type\\\",\\\"content\\\":\\\"image/png\\\"}],[\\\"$\\\",\\\"meta\\\",\\\"23\\\",{\\\"name\\\":\\\"twitter:image\\\",\\\"content\\\":\\\"https://tracklock.gg/players/113272695/opengraph-image?15cd3e324c4effd5\\\"}],[\\\"$\\\",\\\"meta\\\",\\\"24\\\",{\\\"name\\\":\\\"twitter:image:width\\\",\\\"content\\\":\\\"1200\\\"}],[\\\"$\\\",\\\"meta\\\",\\\"25\\\",{\\\"name\\\":\\\"twitter:image:height\\\",\\\"content\\\":\\\"630\\\"}],[\\\"$\\\",\\\"link\\\",\\\"26\\\",{\\\"rel\\\":\\\"icon\\\",\\\"href\\\":\\\"/favicon.ico\\\",\\\"type\\\":\\\"image/x-icon\\\",\\\"sizes\\\":\\\"48x48\\\"}]]\\n\"])</script><script>self.__next_f.push([1,\"e:null\\n\"])</script><script>self.__next_f.push([1,\"14:I[95769,[\\\"8310\\\",\\\"static/chunks/0e5ce63c-91a3f1b106c5b1d8.js\\\",\\\"4868\\\",\\\"static/chunks/4868-450938e158403f3f.js\\\",\\\"8173\\\",\\\"static/chunks/8173-c00e07172c6e21c0.js\\\",\\\"4108\\\",\\\"static/chunks/4108-00caa577a69370ae.js\\\",\\\"5037\\\",\\\"static/chunks/5037-cfc781181b8f744f.js\\\",\\\"1721\\\",\\\"static/chunks/1721-db7c1f1eeb0cf24b.js\\\",\\\"5971\\\",\\\"static/chunks/5971-a5773665823f7c6e.js\\\",\\\"8297\\\",\\\"static/chunks/8297-2c3479d782c4dd83.js\\\",\\\"1792\\\",\\\"static/chunks/1792-32da40c3e49a984f.js\\\",\\\"1821\\\",\\\"static/chunks/1821-326516b2743de459.js\\\",\\\"3982\\\",\\\"static/chunks/3982-dc35624c2be98f4c.js\\\",\\\"6563\\\",\\\"static/chunks/6563-d4a94c27fc38f3b9.js\\\",\\\"7071\\\",\\\"static/chunks/7071-d98474f6586b5741.js\\\",\\\"9182\\\",\\\"static/chunks/9182-f57cf703a012e537.js\\\",\\\"9970\\\",\\\"static/chunks/9970-06a593f9b70c8fad.js\\\",\\\"766\\\",\\\"static/chunks/766-2631c07f11fbdf80.js\\\",\\\"2025\\\",\\\"static/chunks/2025-9104816d3482d81e.js\\\",\\\"7780\\\",\\\"static/chunks/app/players/%5Baccount_id%5D/matches/page-1ab487e1565a5675.js\\\"],\\\"HeaderSection\\\"]\\n15:I[59225,[\\\"8310\\\",\\\"static/chunks/0e5ce63c-91a3f1b106c5b1d8.js\\\",\\\"4868\\\",\\\"static/chunks/4868-450938e158403f3f.js\\\",\\\"8173\\\",\\\"static/chunks/8173-c00e07172c6e21c0.js\\\",\\\"4108\\\",\\\"static/chunks/4108-00caa577a69370ae.js\\\",\\\"5037\\\",\\\"static/chunks/5037-cfc781181b8f744f.js\\\",\\\"1721\\\",\\\"static/chunks/1721-db7c1f1eeb0cf24b.js\\\",\\\"5971\\\",\\\"static/chunks/5971-a5773665823f7c6e.js\\\",\\\"8297\\\",\\\"static/chunks/8297-2c3479d782c4dd83.js\\\",\\\"1792\\\",\\\"static/chunks/1792-32da40c3e49a984f.js\\\",\\\"1821\\\",\\\"static/chunks/1821-326516b2743de459.js\\\",\\\"3982\\\",\\\"static/chunks/3982-dc35624c2be98f4c.js\\\",\\\"6563\\\",\\\"static/chunks/6563-d4a94c27fc38f3b9.js\\\",\\\"7071\\\",\\\"static/chunks/7071-d98474f6586b5741.js\\\",\\\"9182\\\",\\\"static/chunks/9182-f57cf703a012e537.js\\\",\\\"9970\\\",\\\"static/chunks/9970-06a593f9b70c8fad.js\\\",\\\"766\\\",\\\"static/chunks/766-2631c07f11fbdf80.js\\\",\\\"2025\\\",\\\"static/chunks/2025-9104816d3482d81e.js\\\",\\\"7780\\\",\\\"static/chunks/app/players/%5Baccount_id%5D/matches/page-1ab487e1565a5675.js\\\"],\\\"Settings\\\"]\\nc:[\\\"$\\\",\\\"div\\\",null,{\\\"className\\\":\\\"text-gray-100 space-y-4 mt-6 mb-4\\\",\\\"children\\\":[[\\\"$\\\",\\\"$L14\\\",null,{\\\"profile\\\":{\\\"account_id\\\":\\\"113272695\\\",\\\"personaname\\\":\\\"Gerorge\\\",\\\"avatarfull\\\":\\\"https://avatars.\"])</script><script>self.__next_f.push([1,\"steamstatic.com/a2f831dfca10b299cdd6bce1fcf7a50ed554078c_full.jpg\\\",\\\"profileurl\\\":\\\"https://steamcommunity.com/profiles/76561198073538423/\\\",\\\"hide_profile\\\":false,\\\"hide_elo\\\":false,\\\"hide_personal_information\\\":false,\\\"hide_win_loss\\\":false,\\\"twitch_link\\\":null,\\\"youtube_link\\\":null,\\\"x_link\\\":null,\\\"discord_profile\\\":null,\\\"enable_new_profile\\\":false,\\\"last_updated\\\":\\\"$D2024-10-01T00:23:22.445Z\\\",\\\"last_seen_match_id\\\":\\\"27445082\\\",\\\"last_run_date\\\":\\\"$D2024-11-12T08:48:43.878Z\\\"}}],[\\\"$\\\",\\\"div\\\",null,{\\\"className\\\":\\\"flex items-center justify-start w-full bg-[#FFFFFF05] \\\",\\\"children\\\":[[\\\"$\\\",\\\"a\\\",null,{\\\"className\\\":\\\"hover:bg-[#EFDEBF0D] cursor-pointer text-[#EFDEBF] text-xs font-bold p-4 transition-colors\\\",\\\"href\\\":\\\"/players/113272695\\\",\\\"children\\\":\\\"Overview\\\"}],[\\\"$\\\",\\\"a\\\",null,{\\\"className\\\":\\\"hover:bg-[#EFDEBF0D] cursor-pointer text-[#EFDEBF] text-xs font-bold p-4 transition-colors\\\",\\\"href\\\":\\\"/players/113272695/heroes\\\",\\\"children\\\":\\\"Heroes\\\"}],[\\\"$\\\",\\\"a\\\",null,{\\\"className\\\":\\\"bg-[#EFDEBF0D] border-b border-[#EFDEBF] cursor-pointer text-[#EFDEBF] text-xs font-bold p-4 transition-colors\\\",\\\"href\\\":\\\"/players/113272695/matches\\\",\\\"children\\\":\\\"Matches\\\"}],[\\\"$\\\",\\\"$L15\\\",null,{\\\"player\\\":\\\"$c:props:children:0:props:profile\\\"}]]}],[\\\"$\\\",\\\"div\\\",null,{\\\"className\\\":\\\"app__ad__leaderboard\\\"}],[false,false,\\\"$L16\\\"]]}]\\n\"])</script><script async=\"\" src=\"/_next/static/chunks/0e5ce63c-91a3f1b106c5b1d8.js\"></script><script async=\"\" src=\"/_next/static/chunks/4868-450938e158403f3f.js\"></script><script async=\"\" src=\"/_next/static/chunks/4108-00caa577a69370ae.js\"></script><script async=\"\" src=\"/_next/static/chunks/5037-cfc781181b8f744f.js\"></script><script async=\"\" src=\"/_next/static/chunks/1721-db7c1f1eeb0cf24b.js\"></script><script async=\"\" src=\"/_next/static/chunks/5971-a5773665823f7c6e.js\"></script><script async=\"\" src=\"/_next/static/chunks/8297-2c3479d782c4dd83.js\"></script><script async=\"\" src=\"/_next/static/chunks/1792-32da40c3e49a984f.js\"></script><script async=\"\" src=\"/_next/static/chunks/1821-326516b2743de459.js\"></script><script async=\"\" src=\"/_next/static/chunks/3982-dc35624c2be98f4c.js\"></script><script async=\"\" src=\"/_next/static/chunks/6563-d4a94c27fc38f3b9.js\"></script><script async=\"\" src=\"/_next/static/chunks/7071-d98474f6586b5741.js\"></script><script async=\"\" src=\"/_next/static/chunks/9182-f57cf703a012e537.js\"></script><script async=\"\" src=\"/_next/static/chunks/9970-06a593f9b70c8fad.js\"></script><script async=\"\" src=\"/_next/static/chunks/766-2631c07f11fbdf80.js\"></script><script async=\"\" src=\"/_next/static/chunks/2025-9104816d3482d81e.js\"></script><script async=\"\" src=\"/_next/static/chunks/app/players/%5Baccount_id%5D/matches/page-1ab487e1565a5675.js\"></script><link as=\"image\" href=\"https://avatars.steamstatic.com/a2f831dfca10b299cdd6bce1fcf7a50ed554078c_full.jpg\" rel=\"preload\"/><div hidden=\"\" id=\"S:1\"><div class=\"text-gray-100 space-y-4 mt-6 mb-4\"><div class=\"bg-[#FFFFFF05] p-6 backdrop-blur-sm\"><div class=\"flex items-start justify-between\"><div class=\"flex items-start gap-6\"><div class=\"relative\"><img alt=\"Gerorge\" class=\"w-24 h-24 rounded-lg border-2 border-gray-700 shadow-lg\" src=\"https://avatars.steamstatic.com/a2f831dfca10b299cdd6bce1fcf7a50ed554078c_full.jpg\"/></div><div class=\"space-y-3\"><div class=\"space-y-1\"><h1 class=\"font-bold text-2xl text-white\">Gerorge</h1><div class=\"flex gap-2\"><a class=\"flex items-center justify-center transition-colors duration-200\" href=\"https://steamcommunity.com/profiles/76561198073538423/\" rel=\"noopener noreferrer\" target=\"_blank\"><img alt=\"Steam logo\" class=\"w-5 h-5\" data-nimg=\"1\" decoding=\"async\" height=\"16\" loading=\"lazy\" src=\"/steam.svg\" style=\"color:transparent\" width=\"16\"/></a></div></div></div></div><div class=\"flex flex-col items-end gap-2 justify-end ml-auto w-[260px]\"><button class=\"inline-flex items-center gap-2 px-4 py-2 rounded-md transition-colors bg-gray-700 text-gray-400 cursor-not-allowed\" disabled=\"\"><svg class=\"lucide lucide-refresh-cw w-4 h-4\" fill=\"none\" height=\"24\" stroke=\"currentColor\" stroke-linecap=\"round\" stroke-linejoin=\"round\" stroke-width=\"2\" viewbox=\"0 0 24 24\" width=\"24\" xmlns=\"http://www.w3.org/2000/svg\"><path d=\"M3 12a9 9 0 0 1 9-9 9.75 9.75 0 0 1 6.74 2.74L21 8\"></path><path d=\"M21 3v5h-5\"></path><path d=\"M21 12a9 9 0 0 1-9 9 9.75 9.75 0 0 1-6.74-2.74L3 16\"></path><path d=\"M8 16H3v5\"></path></svg>Update Profile</button></div></div></div><div class=\"flex items-center justify-start w-full bg-[#FFFFFF05]\"><a class=\"hover:bg-[#EFDEBF0D] cursor-pointer text-[#EFDEBF] text-xs font-bold p-4 transition-colors\" href=\"/players/113272695\">Overview</a><a class=\"hover:bg-[#EFDEBF0D] cursor-pointer text-[#EFDEBF] text-xs font-bold p-4 transition-colors\" href=\"/players/113272695/heroes\">Heroes</a><a class=\"bg-[#EFDEBF0D] border-b border-[#EFDEBF] cursor-pointer text-[#EFDEBF] text-xs font-bold p-4 transition-colors\" href=\"/players/113272695/matches\">Matches</a></div><div class=\"app__ad__leaderboard\"></div><template id=\"P:3\"></template></div></div><script>$RS(\"S:1\",\"P:1\")</script><script>self.__next_f.push([1,\"17:I[93040,[\\\"8310\\\",\\\"static/chunks/0e5ce63c-91a3f1b106c5b1d8.js\\\",\\\"4868\\\",\\\"static/chunks/4868-450938e158403f3f.js\\\",\\\"8173\\\",\\\"static/chunks/8173-c00e07172c6e21c0.js\\\",\\\"4108\\\",\\\"static/chunks/4108-00caa577a69370ae.js\\\",\\\"5037\\\",\\\"static/chunks/5037-cfc781181b8f744f.js\\\",\\\"1721\\\",\\\"static/chunks/1721-db7c1f1eeb0cf24b.js\\\",\\\"5971\\\",\\\"static/chunks/5971-a5773665823f7c6e.js\\\",\\\"8297\\\",\\\"static/chunks/8297-2c3479d782c4dd83.js\\\",\\\"1792\\\",\\\"static/chunks/1792-32da40c3e49a984f.js\\\",\\\"1821\\\",\\\"static/chunks/1821-326516b2743de459.js\\\",\\\"3982\\\",\\\"static/chunks/3982-dc35624c2be98f4c.js\\\",\\\"6563\\\",\\\"static/chunks/6563-d4a94c27fc38f3b9.js\\\",\\\"7071\\\",\\\"static/chunks/7071-d98474f6586b5741.js\\\",\\\"9182\\\",\\\"static/chunks/9182-f57cf703a012e537.js\\\",\\\"9970\\\",\\\"static/chunks/9970-06a593f9b70c8fad.js\\\",\\\"766\\\",\\\"static/chunks/766-2631c07f11fbdf80.js\\\",\\\"2025\\\",\\\"static/chunks/2025-9104816d3482d81e.js\\\",\\\"7780\\\",\\\"static/chunks/app/players/%5Baccount_id%5D/matches/page-1ab487e1565a5675.js\\\"],\\\"default\\\"]\\n\"])</script><script>self.__next_f.push([1,\"16:[\\\"$\\\",\\\"$L17\\\",null,{\\\"recentMatches\\\":[{\\\"match_id\\\":30748938,\\\"account_id\\\":113272695,\\\"match_mode\\\":1,\\\"game_mode\\\":1,\\\"start_time\\\":\\\"$D2024-12-20T22:20:59.000Z\\\",\\\"match_result\\\":0,\\\"hero_id\\\":27,\\\"hero_name\\\":\\\"Yamato\\\",\\\"match_duration_s\\\":1770,\\\"player_team\\\":0,\\\"player_kills\\\":5,\\\"player_deaths\\\":1,\\\"player_assists\\\":7,\\\"last_hits\\\":150,\\\"denies\\\":8,\\\"hero_level\\\":28,\\\"net_worth\\\":29486,\\\"objectives_mask_team0\\\":65253,\\\"objectives_mask_team1\\\":0,\\\"team_abandoned\\\":false,\\\"abandoned_time_s\\\":0,\\\"has_meta\\\":true},{\\\"match_id\\\":30593152,\\\"account_id\\\":113272695,\\\"match_mode\\\":1,\\\"game_mode\\\":1,\\\"start_time\\\":\\\"$D2024-12-17T20:42:16.000Z\\\",\\\"match_result\\\":0,\\\"hero_id\\\":4,\\\"hero_name\\\":\\\"Lady Geist\\\",\\\"match_duration_s\\\":2093,\\\"player_team\\\":1,\\\"player_kills\\\":2,\\\"player_deaths\\\":11,\\\"player_assists\\\":1,\\\"last_hits\\\":273,\\\"denies\\\":0,\\\"hero_level\\\":30,\\\"net_worth\\\":34394,\\\"objectives_mask_team0\\\":65217,\\\"objectives_mask_team1\\\":32768,\\\"team_abandoned\\\":false,\\\"abandoned_time_s\\\":0,\\\"has_meta\\\":true},{\\\"match_id\\\":30546558,\\\"account_id\\\":113272695,\\\"match_mode\\\":1,\\\"game_mode\\\":1,\\\"start_time\\\":\\\"$D2024-12-16T20:39:53.000Z\\\",\\\"match_result\\\":0,\\\"hero_id\\\":27,\\\"hero_name\\\":\\\"Yamato\\\",\\\"match_duration_s\\\":1452,\\\"player_team\\\":0,\\\"player_kills\\\":1,\\\"player_deaths\\\":1,\\\"player_assists\\\":12,\\\"last_hits\\\":129,\\\"denies\\\":3,\\\"hero_level\\\":26,\\\"net_worth\\\":23742,\\\"objectives_mask_team0\\\":65517,\\\"objectives_mask_team1\\\":0,\\\"team_abandoned\\\":false,\\\"abandoned_time_s\\\":0,\\\"has_meta\\\":true},{\\\"match_id\\\":30231057,\\\"account_id\\\":113272695,\\\"match_mode\\\":1,\\\"game_mode\\\":1,\\\"start_time\\\":\\\"$D2024-12-10T22:20:20.000Z\\\",\\\"match_result\\\":0,\\\"hero_id\\\":4,\\\"hero_name\\\":\\\"Lady Geist\\\",\\\"match_duration_s\\\":3162,\\\"player_team\\\":1,\\\"player_kills\\\":8,\\\"player_deaths\\\":10,\\\"player_assists\\\":18,\\\"last_hits\\\":296,\\\"denies\\\":6,\\\"hero_level\\\":37,\\\"net_worth\\\":49484,\\\"objectives_mask_team0\\\":1,\\\"objectives_mask_team1\\\":0,\\\"team_abandoned\\\":false,\\\"abandoned_time_s\\\":0,\\\"has_meta\\\":true},{\\\"match_id\\\":30172398,\\\"account_id\\\":113272695,\\\"match_mode\\\":1,\\\"game_mode\\\":1,\\\"start_time\\\":\\\"$D2024-12-09T21:42:02.000Z\\\",\\\"match_result\\\":0,\\\"hero_id\\\":4,\\\"hero_name\\\":\\\"Lady Geist\\\",\\\"match_duration_s\\\":3351,\\\"player_team\\\":0,\\\"player_kills\\\":5,\\\"player_deaths\\\":6,\\\"player_assists\\\":10,\\\"last_hits\\\":312,\\\"denies\\\":6,\\\"hero_level\\\":37,\\\"net_worth\\\":58596,\\\"objectives_mask_team0\\\":4097,\\\"objectives_mask_team1\\\":0,\\\"team_abandoned\\\":false,\\\"abandoned_time_s\\\":0,\\\"has_meta\\\":true},{\\\"match_id\\\":30171315,\\\"account_id\\\":113272695,\\\"match_mode\\\":1,\\\"game_mode\\\":1,\\\"start_time\\\":\\\"$D2024-12-09T21:21:21.000Z\\\",\\\"match_result\\\":0,\\\"hero_id\\\":50,\\\"hero_name\\\":\\\"Pocket\\\",\\\"match_duration_s\\\":993,\\\"player_team\\\":0,\\\"player_kills\\\":4,\\\"player_deaths\\\":1,\\\"player_assists\\\":6,\\\"last_hits\\\":76,\\\"denies\\\":3,\\\"hero_level\\\":22,\\\"net_worth\\\":17863,\\\"objectives_mask_team0\\\":65519,\\\"objectives_mask_team1\\\":0,\\\"team_abandoned\\\":false,\\\"abandoned_time_s\\\":0,\\\"has_meta\\\":true},{\\\"match_id\\\":30168507,\\\"account_id\\\":113272695,\\\"match_mode\\\":1,\\\"game_mode\\\":1,\\\"start_time\\\":\\\"$D2024-12-09T20:31:23.000Z\\\",\\\"match_result\\\":0,\\\"hero_id\\\":4,\\\"hero_name\\\":\\\"Lady Geist\\\",\\\"match_duration_s\\\":1553,\\\"player_team\\\":0,\\\"player_kills\\\":2,\\\"player_deaths\\\":1,\\\"player_assists\\\":4,\\\"last_hits\\\":156,\\\"denies\\\":4,\\\"hero_level\\\":25,\\\"net_worth\\\":23018,\\\"objectives_mask_team0\\\":65525,\\\"objectives_mask_team1\\\":0,\\\"team_abandoned\\\":false,\\\"abandoned_time_s\\\":0,\\\"has_meta\\\":true},{\\\"match_id\\\":30029597,\\\"account_id\\\":113272695,\\\"match_mode\\\":1,\\\"game_mode\\\":1,\\\"start_time\\\":\\\"$D2024-12-07T20:15:25.000Z\\\",\\\"match_result\\\":1,\\\"hero_id\\\":4,\\\"hero_name\\\":\\\"Lady Geist\\\",\\\"match_duration_s\\\":2081,\\\"player_team\\\":0,\\\"player_kills\\\":1,\\\"player_deaths\\\":4,\\\"player_assists\\\":6,\\\"last_hits\\\":203,\\\"denies\\\":3,\\\"hero_level\\\":28,\\\"net_worth\\\":27669,\\\"objectives_mask_team0\\\":0,\\\"objectives_mask_team1\\\":65249,\\\"team_abandoned\\\":false,\\\"abandoned_time_s\\\":0,\\\"has_meta\\\":true},{\\\"match_id\\\":30026635,\\\"account_id\\\":113272695,\\\"match_mode\\\":1,\\\"game_mode\\\":1,\\\"start_time\\\":\\\"$D2024-12-07T19:36:42.000Z\\\",\\\"match_result\\\":1,\\\"hero_id\\\":4,\\\"hero_name\\\":\\\"Lady Geist\\\",\\\"match_duration_s\\\":1988,\\\"player_team\\\":1,\\\"player_kills\\\":9,\\\"player_deaths\\\":2,\\\"player_assists\\\":8,\\\"last_hits\\\":236,\\\"denies\\\":1,\\\"hero_level\\\":30,\\\"net_worth\\\":34560,\\\"objectives_mask_team0\\\":0,\\\"objectives_mask_team1\\\":65221,\\\"team_abandoned\\\":false,\\\"abandoned_time_s\\\":0,\\\"has_meta\\\":true},{\\\"match_id\\\":29956158,\\\"account_id\\\":113272695,\\\"match_mode\\\":1,\\\"game_mode\\\":1,\\\"start_time\\\":\\\"$D2024-12-06T22:22:10.000Z\\\",\\\"match_result\\\":0,\\\"hero_id\\\":3,\\\"hero_name\\\":\\\"Vindicta\\\",\\\"match_duration_s\\\":2178,\\\"player_team\\\":1,\\\"player_kills\\\":5,\\\"player_deaths\\\":2,\\\"player_assists\\\":8,\\\"last_hits\\\":216,\\\"denies\\\":4,\\\"hero_level\\\":31,\\\"net_worth\\\":36002,\\\"objectives_mask_team0\\\":65057,\\\"objectives_mask_team1\\\":0,\\\"team_abandoned\\\":false,\\\"abandoned_time_s\\\":0,\\\"has_meta\\\":true},{\\\"match_id\\\":29953005,\\\"account_id\\\":113272695,\\\"match_mode\\\":1,\\\"game_mode\\\":1,\\\"start_time\\\":\\\"$D2024-12-06T21:40:58.000Z\\\",\\\"match_result\\\":0,\\\"hero_id\\\":27,\\\"hero_name\\\":\\\"Yamato\\\",\\\"match_duration_s\\\":1640,\\\"player_team\\\":1,\\\"player_kills\\\":6,\\\"player_deaths\\\":6,\\\"player_assists\\\":3,\\\"last_hits\\\":128,\\\"denies\\\":6,\\\"hero_level\\\":26,\\\"net_worth\\\":24112,\\\"objectives_mask_team0\\\":32481,\\\"objectives_mask_team1\\\":0,\\\"team_abandoned\\\":false,\\\"abandoned_time_s\\\":0,\\\"has_meta\\\":true},{\\\"match_id\\\":29943124,\\\"account_id\\\":113272695,\\\"match_mode\\\":1,\\\"game_mode\\\":1,\\\"start_time\\\":\\\"$D2024-12-06T19:45:12.000Z\\\",\\\"match_result\\\":1,\\\"hero_id\\\":3,\\\"hero_name\\\":\\\"Vindicta\\\",\\\"match_duration_s\\\":3102,\\\"player_team\\\":0,\\\"player_kills\\\":3,\\\"player_deaths\\\":6,\\\"player_assists\\\":11,\\\"last_hits\\\":236,\\\"denies\\\":1,\\\"hero_level\\\":34,\\\"net_worth\\\":41358,\\\"objectives_mask_team0\\\":0,\\\"objectives_mask_team1\\\":1,\\\"team_abandoned\\\":false,\\\"abandoned_time_s\\\":0,\\\"has_meta\\\":true},{\\\"match_id\\\":29940579,\\\"account_id\\\":113272695,\\\"match_mode\\\":1,\\\"game_mode\\\":1,\\\"start_time\\\":\\\"$D2024-12-06T19:05:47.000Z\\\",\\\"match_result\\\":1,\\\"hero_id\\\":3,\\\"hero_name\\\":\\\"Vindicta\\\",\\\"match_duration_s\\\":2207,\\\"player_team\\\":0,\\\"player_kills\\\":5,\\\"player_deaths\\\":4,\\\"player_assists\\\":10,\\\"last_hits\\\":202,\\\"denies\\\":5,\\\"hero_level\\\":35,\\\"net_worth\\\":43252,\\\"objectives_mask_team0\\\":0,\\\"objectives_mask_team1\\\":65377,\\\"team_abandoned\\\":false,\\\"abandoned_time_s\\\":0,\\\"has_meta\\\":true},{\\\"match_id\\\":29936369,\\\"account_id\\\":113272695,\\\"match_mode\\\":1,\\\"game_mode\\\":1,\\\"start_time\\\":\\\"$D2024-12-06T17:58:10.000Z\\\",\\\"match_result\\\":0,\\\"hero_id\\\":50,\\\"hero_name\\\":\\\"Pocket\\\",\\\"match_duration_s\\\":2484,\\\"player_team\\\":0,\\\"player_kills\\\":4,\\\"player_deaths\\\":6,\\\"player_assists\\\":11,\\\"last_hits\\\":203,\\\"denies\\\":7,\\\"hero_level\\\":31,\\\"net_worth\\\":36056,\\\"objectives_mask_team0\\\":56833,\\\"objectives_mask_team1\\\":0,\\\"team_abandoned\\\":false,\\\"abandoned_time_s\\\":0,\\\"has_meta\\\":true},{\\\"match_id\\\":29887943,\\\"account_id\\\":113272695,\\\"match_mode\\\":1,\\\"game_mode\\\":1,\\\"start_time\\\":\\\"$D2024-12-05T22:03:03.000Z\\\",\\\"match_result\\\":0,\\\"hero_id\\\":27,\\\"hero_name\\\":\\\"Yamato\\\",\\\"match_duration_s\\\":2538,\\\"player_team\\\":1,\\\"player_kills\\\":3,\\\"player_deaths\\\":8,\\\"player_assists\\\":5,\\\"last_hits\\\":291,\\\"denies\\\":17,\\\"hero_level\\\":35,\\\"net_worth\\\":44015,\\\"objectives_mask_team0\\\":65257,\\\"objectives_mask_team1\\\":0,\\\"team_abandoned\\\":false,\\\"abandoned_time_s\\\":0,\\\"has_meta\\\":true},{\\\"match_id\\\":29885245,\\\"account_id\\\":113272695,\\\"match_mode\\\":1,\\\"game_mode\\\":1,\\\"start_time\\\":\\\"$D2024-12-05T21:16:32.000Z\\\",\\\"match_result\\\":0,\\\"hero_id\\\":27,\\\"hero_name\\\":\\\"Yamato\\\",\\\"match_duration_s\\\":1729,\\\"player_team\\\":0,\\\"player_kills\\\":3,\\\"player_deaths\\\":2,\\\"player_assists\\\":5,\\\"last_hits\\\":160,\\\"denies\\\":7,\\\"hero_level\\\":27,\\\"net_worth\\\":25621,\\\"objectives_mask_team0\\\":65217,\\\"objectives_mask_team1\\\":0,\\\"team_abandoned\\\":false,\\\"abandoned_time_s\\\":0,\\\"has_meta\\\":true},{\\\"match_id\\\":29817643,\\\"account_id\\\":113272695,\\\"match_mode\\\":1,\\\"game_mode\\\":1,\\\"start_time\\\":\\\"$D2024-12-04T21:59:47.000Z\\\",\\\"match_result\\\":0,\\\"hero_id\\\":3,\\\"hero_name\\\":\\\"Vindicta\\\",\\\"match_duration_s\\\":2116,\\\"player_team\\\":0,\\\"player_kills\\\":4,\\\"player_deaths\\\":6,\\\"player_assists\\\":6,\\\"last_hits\\\":230,\\\"denies\\\":3,\\\"hero_level\\\":31,\\\"net_worth\\\":35287,\\\"objectives_mask_team0\\\":65153,\\\"objectives_mask_team1\\\":0,\\\"team_abandoned\\\":false,\\\"abandoned_time_s\\\":0,\\\"has_meta\\\":true},{\\\"match_id\\\":29398807,\\\"account_id\\\":113272695,\\\"match_mode\\\":1,\\\"game_mode\\\":1,\\\"start_time\\\":\\\"$D2024-11-29T20:47:51.000Z\\\",\\\"match_result\\\":1,\\\"hero_id\\\":3,\\\"hero_name\\\":\\\"Vindicta\\\",\\\"match_duration_s\\\":2974,\\\"player_team\\\":1,\\\"player_kills\\\":9,\\\"player_deaths\\\":10,\\\"player_assists\\\":18,\\\"last_hits\\\":209,\\\"denies\\\":3,\\\"hero_level\\\":37,\\\"net_worth\\\":50769,\\\"objectives_mask_team0\\\":0,\\\"objectives_mask_team1\\\":4609,\\\"team_abandoned\\\":false,\\\"abandoned_time_s\\\":0,\\\"has_meta\\\":true},{\\\"match_id\\\":29393694,\\\"account_id\\\":113272695,\\\"match_mode\\\":1,\\\"game_mode\\\":1,\\\"start_time\\\":\\\"$D2024-11-29T19:51:53.000Z\\\",\\\"match_result\\\":0,\\\"hero_id\\\":50,\\\"hero_name\\\":\\\"Pocket\\\",\\\"match_duration_s\\\":1940,\\\"player_team\\\":1,\\\"player_kills\\\":9,\\\"player_deaths\\\":3,\\\"player_assists\\\":12,\\\"last_hits\\\":213,\\\"denies\\\":1,\\\"hero_level\\\":30,\\\"net_worth\\\":34747,\\\"objectives_mask_team0\\\":65377,\\\"objectives_mask_team1\\\":0,\\\"team_abandoned\\\":false,\\\"abandoned_time_s\\\":0,\\\"has_meta\\\":true},{\\\"match_id\\\":29390947,\\\"account_id\\\":113272695,\\\"match_mode\\\":1,\\\"game_mode\\\":1,\\\"start_time\\\":\\\"$D2024-11-29T19:21:29.000Z\\\",\\\"match_result\\\":0,\\\"hero_id\\\":50,\\\"hero_name\\\":\\\"Pocket\\\",\\\"match_duration_s\\\":1463,\\\"player_team\\\":1,\\\"player_kills\\\":1,\\\"player_deaths\\\":10,\\\"player_assists\\\":0,\\\"last_hits\\\":93,\\\"denies\\\":8,\\\"hero_level\\\":18,\\\"net_worth\\\":13011,\\\"objectives_mask_team0\\\":65441,\\\"objectives_mask_team1\\\":0,\\\"team_abandoned\\\":false,\\\"abandoned_time_s\\\":0,\\\"has_meta\\\":true}],\\\"count\\\":\\\"162\\\",\\\"account_id\\\":113272695,\\\"page\\\":1,\\\"heroId\\\":\\\"$undefined\\\",\\\"matchMode\\\":\\\"$undefined\\\",\\\"path\\\":\\\"/players/113272695\\\",\\\"heroes\\\":[{\\\"hero_id\\\":0,\\\"name\\\":\\\"\\\",\\\"designer_name\\\":\\\"hero_base\\\",\\\"active\\\":false},{\\\"hero_id\\\":2,\\\"name\\\":\\\"Seven\\\",\\\"designer_name\\\":\\\"hero_gigawatt\\\",\\\"active\\\":true},{\\\"hero_id\\\":3,\\\"name\\\":\\\"Vindicta\\\",\\\"designer_name\\\":\\\"hero_hornet\\\",\\\"active\\\":true},{\\\"hero_id\\\":4,\\\"name\\\":\\\"Lady Geist\\\",\\\"designer_name\\\":\\\"hero_ghost\\\",\\\"active\\\":true},{\\\"hero_id\\\":6,\\\"name\\\":\\\"Abrams\\\",\\\"designer_name\\\":\\\"hero_atlas\\\",\\\"active\\\":true},{\\\"hero_id\\\":7,\\\"name\\\":\\\"Wraith\\\",\\\"designer_name\\\":\\\"hero_wraith\\\",\\\"active\\\":true},{\\\"hero_id\\\":8,\\\"name\\\":\\\"McGinnis\\\",\\\"designer_name\\\":\\\"hero_forge\\\",\\\"active\\\":true},{\\\"hero_id\\\":10,\\\"name\\\":\\\"Paradox\\\",\\\"designer_name\\\":\\\"hero_chrono\\\",\\\"active\\\":true},{\\\"hero_id\\\":11,\\\"name\\\":\\\"Dynamo\\\",\\\"designer_name\\\":\\\"hero_dynamo\\\",\\\"active\\\":true},{\\\"hero_id\\\":12,\\\"name\\\":\\\"Kelvin\\\",\\\"designer_name\\\":\\\"hero_kelvin\\\",\\\"active\\\":true},{\\\"hero_id\\\":13,\\\"name\\\":\\\"Haze\\\",\\\"designer_name\\\":\\\"hero_haze\\\",\\\"active\\\":true},{\\\"hero_id\\\":14,\\\"name\\\":\\\"Holliday\\\",\\\"designer_name\\\":\\\"hero_astro\\\",\\\"active\\\":false},{\\\"hero_id\\\":15,\\\"name\\\":\\\"Bebop\\\",\\\"designer_name\\\":\\\"hero_bebop\\\",\\\"active\\\":true},{\\\"hero_id\\\":16,\\\"name\\\":\\\"Calico\\\",\\\"designer_name\\\":\\\"hero_nano\\\",\\\"active\\\":false},{\\\"hero_id\\\":17,\\\"name\\\":\\\"Grey Talon\\\",\\\"designer_name\\\":\\\"hero_orion\\\",\\\"active\\\":true},{\\\"hero_id\\\":18,\\\"name\\\":\\\"Mo \\u0026 Krill\\\",\\\"designer_name\\\":\\\"hero_krill\\\",\\\"active\\\":true},{\\\"hero_id\\\":19,\\\"name\\\":\\\"Shiv\\\",\\\"designer_name\\\":\\\"hero_shiv\\\",\\\"active\\\":true},{\\\"hero_id\\\":20,\\\"name\\\":\\\"Ivy\\\",\\\"designer_name\\\":\\\"hero_tengu\\\",\\\"active\\\":true},{\\\"hero_id\\\":21,\\\"name\\\":\\\"Kali\\\",\\\"designer_name\\\":\\\"hero_kali\\\",\\\"active\\\":false},{\\\"hero_id\\\":35,\\\"name\\\":\\\"Viscous\\\",\\\"designer_name\\\":\\\"hero_viscous\\\",\\\"active\\\":true},{\\\"hero_id\\\":38,\\\"name\\\":\\\"Gunslinger\\\",\\\"designer_name\\\":\\\"hero_gunslinger\\\",\\\"active\\\":false},{\\\"hero_id\\\":39,\\\"name\\\":\\\"The Boss\\\",\\\"designer_name\\\":\\\"hero_yakuza\\\",\\\"active\\\":false},{\\\"hero_id\\\":46,\\\"name\\\":\\\"Generic Person\\\",\\\"designer_name\\\":\\\"hero_genericperson\\\",\\\"active\\\":false},{\\\"hero_id\\\":47,\\\"name\\\":\\\"Tokamak\\\",\\\"designer_name\\\":\\\"hero_tokamak\\\",\\\"active\\\":false},{\\\"hero_id\\\":48,\\\"name\\\":\\\"Wrecker\\\",\\\"designer_name\\\":\\\"hero_wrecker\\\",\\\"active\\\":false},{\\\"hero_id\\\":49,\\\"name\\\":\\\"Rutger\\\",\\\"designer_name\\\":\\\"hero_rutger\\\",\\\"active\\\":false},{\\\"hero_id\\\":50,\\\"name\\\":\\\"Pocket\\\",\\\"designer_name\\\":\\\"hero_synth\\\",\\\"active\\\":true},{\\\"hero_id\\\":51,\\\"name\\\":\\\"Thumper\\\",\\\"designer_name\\\":\\\"hero_thumper\\\",\\\"active\\\":false},{\\\"hero_id\\\":52,\\\"name\\\":\\\"Mirage\\\",\\\"designer_name\\\":\\\"hero_mirage\\\",\\\"active\\\":true},{\\\"hero_id\\\":53,\\\"name\\\":\\\"Fathom\\\",\\\"designer_name\\\":\\\"hero_slork\\\",\\\"active\\\":false},{\\\"hero_id\\\":54,\\\"name\\\":\\\"Cadence\\\",\\\"designer_name\\\":\\\"hero_cadence\\\",\\\"active\\\":false},{\\\"hero_id\\\":55,\\\"name\\\":\\\"TargetDummy\\\",\\\"designer_name\\\":\\\"hero_targetdummy\\\",\\\"active\\\":false},{\\\"hero_id\\\":56,\\\"name\\\":\\\"Bomber\\\",\\\"designer_name\\\":\\\"hero_bomber\\\",\\\"active\\\":false},{\\\"hero_id\\\":57,\\\"name\\\":\\\"Shield Guy\\\",\\\"designer_name\\\":\\\"hero_shieldguy\\\",\\\"active\\\":false},{\\\"hero_id\\\":58,\\\"name\\\":\\\"Viper\\\",\\\"designer_name\\\":\\\"hero_viper\\\",\\\"active\\\":false},{\\\"hero_id\\\":59,\\\"name\\\":\\\"Vandal\\\",\\\"designer_name\\\":\\\"hero_vandal\\\",\\\"active\\\":false},{\\\"hero_id\\\":60,\\\"name\\\":\\\"Magician\\\",\\\"designer_name\\\":\\\"hero_magician\\\",\\\"active\\\":false},{\\\"hero_id\\\":1,\\\"name\\\":\\\"Infernus\\\",\\\"designer_name\\\":\\\"hero_inferno\\\",\\\"active\\\":true},{\\\"hero_id\\\":25,\\\"name\\\":\\\"Warden\\\",\\\"designer_name\\\":\\\"hero_warden\\\",\\\"active\\\":true},{\\\"hero_id\\\":27,\\\"name\\\":\\\"Yamato\\\",\\\"designer_name\\\":\\\"hero_yamato\\\",\\\"active\\\":true},{\\\"hero_id\\\":31,\\\"name\\\":\\\"Lash\\\",\\\"designer_name\\\":\\\"hero_lash\\\",\\\"active\\\":true},{\\\"hero_id\\\":61,\\\"name\\\":\\\"Trapper\\\",\\\"designer_name\\\":\\\"hero_trapper\\\",\\\"active\\\":false},{\\\"hero_id\\\":62,\\\"name\\\":\\\"Operative\\\",\\\"designer_name\\\":\\\"hero_operative\\\",\\\"active\\\":false}],\\\"playerStats\\\":[{\\\"account_id\\\":\\\"113272695\\\",\\\"match_mode\\\":1,\\\"hero_id\\\":1,\\\"hero_name\\\":\\\"Infernus\\\",\\\"wins\\\":0,\\\"losses\\\":2,\\\"total_match_duration\\\":5072,\\\"avg_match_duration\\\":2536,\\\"amber_games\\\":2,\\\"saphire_games\\\":0,\\\"amber_wins\\\":0,\\\"saphire_wins\\\":0,\\\"avg_player_kills\\\":5,\\\"total_player_kills\\\":10,\\\"avg_player_deaths\\\":6,\\\"total_player_deaths\\\":12,\\\"avg_player_assists\\\":10.5,\\\"total_player_assists\\\":21,\\\"avg_last_hits\\\":142,\\\"total_last_hits\\\":284,\\\"avg_denies\\\":7,\\\"total_denies\\\":14,\\\"avg_hero_level\\\":28,\\\"total_hero_level\\\":56,\\\"avg_net_worth\\\":35332.5,\\\"total_net_worth\\\":70665,\\\"net_worth_per_minute\\\":841.25},{\\\"account_id\\\":\\\"113272695\\\",\\\"match_mode\\\":1,\\\"hero_id\\\":27,\\\"hero_name\\\":\\\"Yamato\\\",\\\"wins\\\":28,\\\"losses\\\":16,\\\"total_match_duration\\\":88761,\\\"avg_match_duration\\\":2017.2954545454545,\\\"amber_games\\\":17,\\\"saphire_games\\\":27,\\\"amber_wins\\\":12,\\\"saphire_wins\\\":16,\\\"avg_player_kills\\\":7.25,\\\"total_player_kills\\\":319,\\\"avg_player_deaths\\\":3.75,\\\"total_player_deaths\\\":165,\\\"avg_player_assists\\\":8.840909090909092,\\\"total_player_assists\\\":389,\\\"avg_last_hits\\\":177.25,\\\"total_last_hits\\\":7799,\\\"avg_denies\\\":7.7272727272727275,\\\"total_denies\\\":340,\\\"avg_hero_level\\\":28.318181818181817,\\\"total_hero_level\\\":1246,\\\"avg_net_worth\\\":36907.795454545456,\\\"total_net_worth\\\":1623943,\\\"net_worth_per_minute\\\":1111.5284052019165},{\\\"account_id\\\":\\\"113272695\\\",\\\"match_mode\\\":1,\\\"hero_id\\\":4,\\\"hero_name\\\":\\\"Lady Geist\\\",\\\"wins\\\":20,\\\"losses\\\":12,\\\"total_match_duration\\\":66731,\\\"avg_match_duration\\\":2085.34375,\\\"amber_games\\\":21,\\\"saphire_games\\\":11,\\\"amber_wins\\\":13,\\\"saphire_wins\\\":7,\\\"avg_player_kills\\\":7.0625,\\\"total_player_kills\\\":226,\\\"avg_player_deaths\\\":4.0625,\\\"total_player_deaths\\\":130,\\\"avg_player_assists\\\":7.5,\\\"total_player_assists\\\":240,\\\"avg_last_hits\\\":217.15625,\\\"total_last_hits\\\":6949,\\\"avg_denies\\\":5.34375,\\\"total_denies\\\":171,\\\"avg_hero_level\\\":30.78125,\\\"total_hero_level\\\":985,\\\"avg_net_worth\\\":40863,\\\"total_net_worth\\\":1307616,\\\"net_worth_per_minute\\\":1191.992707383774},{\\\"account_id\\\":\\\"113272695\\\",\\\"match_mode\\\":1,\\\"hero_id\\\":3,\\\"hero_name\\\":\\\"Vindicta\\\",\\\"wins\\\":7,\\\"losses\\\":8,\\\"total_match_duration\\\":35769,\\\"avg_match_duration\\\":2384.6,\\\"amber_games\\\":8,\\\"saphire_games\\\":7,\\\"amber_wins\\\":3,\\\"saphire_wins\\\":4,\\\"avg_player_kills\\\":7.733333333333333,\\\"total_player_kills\\\":116,\\\"avg_player_deaths\\\":4.466666666666667,\\\"total_player_deaths\\\":67,\\\"avg_player_assists\\\":10.933333333333334,\\\"total_player_assists\\\":164,\\\"avg_last_hits\\\":214.46666666666667,\\\"total_last_hits\\\":3217,\\\"avg_denies\\\":6.533333333333333,\\\"total_denies\\\":98,\\\"avg_hero_level\\\":31.6,\\\"total_hero_level\\\":474,\\\"avg_net_worth\\\":44669.066666666666,\\\"total_net_worth\\\":670036,\\\"net_worth_per_minute\\\":1139.5170068027212},{\\\"account_id\\\":\\\"113272695\\\",\\\"match_mode\\\":1,\\\"hero_id\\\":50,\\\"hero_name\\\":\\\"Pocket\\\",\\\"wins\\\":15,\\\"losses\\\":26,\\\"total_match_duration\\\":92234,\\\"avg_match_duration\\\":2249.609756097561,\\\"amber_games\\\":17,\\\"saphire_games\\\":24,\\\"amber_wins\\\":8,\\\"saphire_wins\\\":7,\\\"avg_player_kills\\\":5.463414634146342,\\\"total_player_kills\\\":224,\\\"avg_player_deaths\\\":5.658536585365853,\\\"total_player_deaths\\\":232,\\\"avg_player_assists\\\":8.585365853658537,\\\"total_player_assists\\\":352,\\\"avg_last_hits\\\":198.1219512195122,\\\"total_last_hits\\\":8123,\\\"avg_denies\\\":6.560975609756097,\\\"total_denies\\\":269,\\\"avg_hero_level\\\":29.195121951219512,\\\"total_hero_level\\\":1197,\\\"avg_net_worth\\\":36802.439024390245,\\\"total_net_worth\\\":1508900,\\\"net_worth_per_minute\\\":992.6973684210526},{\\\"account_id\\\":\\\"113272695\\\",\\\"match_mode\\\":4,\\\"hero_id\\\":4,\\\"hero_name\\\":\\\"Lady Geist\\\",\\\"wins\\\":2,\\\"losses\\\":0,\\\"total_match_duration\\\":4146,\\\"avg_match_duration\\\":2073,\\\"amber_games\\\":1,\\\"saphire_games\\\":1,\\\"amber_wins\\\":1,\\\"saphire_wins\\\":1,\\\"avg_player_kills\\\":4,\\\"total_player_kills\\\":8,\\\"avg_player_deaths\\\":6,\\\"total_player_deaths\\\":12,\\\"avg_player_assists\\\":9.5,\\\"total_player_assists\\\":19,\\\"avg_last_hits\\\":220.5,\\\"total_last_hits\\\":441,\\\"avg_denies\\\":6,\\\"total_denies\\\":12,\\\"avg_hero_level\\\":30.5,\\\"total_hero_level\\\":61,\\\"avg_net_worth\\\":42843.5,\\\"total_net_worth\\\":85687,\\\"net_worth_per_minute\\\":1260.1029411764705},{\\\"account_id\\\":\\\"113272695\\\",\\\"match_mode\\\":1,\\\"hero_id\\\":17,\\\"hero_name\\\":\\\"Grey Talon\\\",\\\"wins\\\":8,\\\"losses\\\":8,\\\"total_match_duration\\\":32881,\\\"avg_match_duration\\\":2055.0625,\\\"amber_games\\\":7,\\\"saphire_games\\\":9,\\\"amber_wins\\\":3,\\\"saphire_wins\\\":5,\\\"avg_player_kills\\\":5.625,\\\"total_player_kills\\\":90,\\\"avg_player_deaths\\\":4.375,\\\"total_player_deaths\\\":70,\\\"avg_player_assists\\\":8,\\\"total_player_assists\\\":128,\\\"avg_last_hits\\\":162.375,\\\"total_last_hits\\\":2598,\\\"avg_denies\\\":5,\\\"total_denies\\\":80,\\\"avg_hero_level\\\":27.25,\\\"total_hero_level\\\":436,\\\"avg_net_worth\\\":33905.1875,\\\"total_net_worth\\\":542483,\\\"net_worth_per_minute\\\":1000.8911439114391},{\\\"account_id\\\":\\\"113272695\\\",\\\"match_mode\\\":4,\\\"hero_id\\\":17,\\\"hero_name\\\":\\\"Grey Talon\\\",\\\"wins\\\":2,\\\"losses\\\":1,\\\"total_match_duration\\\":6933,\\\"avg_match_duration\\\":2311,\\\"amber_games\\\":2,\\\"saphire_games\\\":1,\\\"amber_wins\\\":1,\\\"saphire_wins\\\":1,\\\"avg_player_kills\\\":9.666666666666666,\\\"total_player_kills\\\":29,\\\"avg_player_deaths\\\":3.6666666666666665,\\\"total_player_deaths\\\":11,\\\"avg_player_assists\\\":13.666666666666666,\\\"total_player_assists\\\":41,\\\"avg_last_hits\\\":244,\\\"total_last_hits\\\":732,\\\"avg_denies\\\":8,\\\"total_denies\\\":24,\\\"avg_hero_level\\\":28,\\\"total_hero_level\\\":84,\\\"avg_net_worth\\\":46319,\\\"total_net_worth\\\":138957,\\\"net_worth_per_minute\\\":1218.921052631579},{\\\"account_id\\\":\\\"113272695\\\",\\\"match_mode\\\":1,\\\"hero_id\\\":7,\\\"hero_name\\\":\\\"Wraith\\\",\\\"wins\\\":2,\\\"losses\\\":3,\\\"total_match_duration\\\":12301,\\\"avg_match_duration\\\":2460.2,\\\"amber_games\\\":5,\\\"saphire_games\\\":0,\\\"amber_wins\\\":2,\\\"saphire_wins\\\":0,\\\"avg_player_kills\\\":9,\\\"total_player_kills\\\":45,\\\"avg_player_deaths\\\":5.8,\\\"total_player_deaths\\\":29,\\\"avg_player_assists\\\":11.4,\\\"total_player_assists\\\":57,\\\"avg_last_hits\\\":229.4,\\\"total_last_hits\\\":1147,\\\"avg_denies\\\":17,\\\"total_denies\\\":85,\\\"avg_hero_level\\\":30,\\\"total_hero_level\\\":150,\\\"avg_net_worth\\\":47059.6,\\\"total_net_worth\\\":235298,\\\"net_worth_per_minute\\\":1164.8415841584158},{\\\"account_id\\\":\\\"113272695\\\",\\\"match_mode\\\":4,\\\"hero_id\\\":50,\\\"hero_name\\\":\\\"Pocket\\\",\\\"wins\\\":0,\\\"losses\\\":2,\\\"total_match_duration\\\":3922,\\\"avg_match_duration\\\":1961,\\\"amber_games\\\":0,\\\"saphire_games\\\":2,\\\"amber_wins\\\":0,\\\"saphire_wins\\\":0,\\\"avg_player_kills\\\":3,\\\"total_player_kills\\\":6,\\\"avg_player_deaths\\\":6,\\\"total_player_deaths\\\":12,\\\"avg_player_assists\\\":5,\\\"total_player_assists\\\":10,\\\"avg_last_hits\\\":212,\\\"total_last_hits\\\":424,\\\"avg_denies\\\":6.5,\\\"total_denies\\\":13,\\\"avg_hero_level\\\":28,\\\"total_hero_level\\\":56,\\\"avg_net_worth\\\":34010.5,\\\"total_net_worth\\\":68021,\\\"net_worth_per_minute\\\":1046.4769230769232}]}]\\n\"])</script><div hidden=\"\" id=\"S:3\"><div class=\"space-y-4\"><div class=\"flex gap-4 flex-wrap\"><button aria-autocomplete=\"none\" aria-controls=\"radix-:R2u7rrrqtb:\" aria-expanded=\"false\" class=\"flex h-9 items-center justify-between whitespace-nowrap rounded-md border border-input bg-transparent px-3 py-2 text-sm shadow-sm ring-offset-background placeholder:text-muted-foreground focus:outline-none focus:ring-1 focus:ring-ring disabled:cursor-not-allowed disabled:opacity-50 [&amp;&gt;span]:line-clamp-1 w-[180px] text-gray-300\" data-state=\"closed\" dir=\"ltr\" role=\"combobox\" type=\"button\"><span style=\"pointer-events:none\"></span><svg aria-hidden=\"true\" class=\"h-4 w-4 opacity-50\" fill=\"none\" height=\"15\" viewbox=\"0 0 15 15\" width=\"15\" xmlns=\"http://www.w3.org/2000/svg\"><path clip-rule=\"evenodd\" d=\"M4.93179 5.43179C4.75605 5.60753 4.75605 5.89245 4.93179 6.06819C5.10753 6.24392 5.39245 6.24392 5.56819 6.06819L7.49999 4.13638L9.43179 6.06819C9.60753 6.24392 9.89245 6.24392 10.0682 6.06819C10.2439 5.89245 10.2439 5.60753 10.0682 5.43179L7.81819 3.18179C7.73379 3.0974 7.61933 3.04999 7.49999 3.04999C7.38064 3.04999 7.26618 3.0974 7.18179 3.18179L4.93179 5.43179ZM10.0682 9.56819C10.2439 9.39245 10.2439 9.10753 10.0682 8.93179C9.89245 8.75606 9.60753 8.75606 9.43179 8.93179L7.49999 10.8636L5.56819 8.93179C5.39245 8.75606 5.10753 8.75606 4.93179 8.93179C4.75605 9.10753 4.75605 9.39245 4.93179 9.56819L7.18179 11.8182C7.35753 11.9939 7.64245 11.9939 7.81819 11.8182L10.0682 9.56819Z\" fill=\"currentColor\" fill-rule=\"evenodd\"></path></svg></button><select aria-hidden=\"true\" style=\"position:absolute;border:0;width:1px;height:1px;padding:0;margin:-1px;overflow:hidden;clip:rect(0, 0, 0, 0);white-space:nowrap;word-wrap:normal\" tabindex=\"-1\"></select><button aria-autocomplete=\"none\" aria-controls=\"radix-:R4u7rrrqtb:\" aria-expanded=\"false\" class=\"flex h-9 items-center justify-between whitespace-nowrap rounded-md border border-input bg-transparent px-3 py-2 text-sm shadow-sm ring-offset-background placeholder:text-muted-foreground focus:outline-none focus:ring-1 focus:ring-ring disabled:cursor-not-allowed disabled:opacity-50 [&amp;&gt;span]:line-clamp-1 w-[230px] text-gray-300\" data-state=\"closed\" dir=\"ltr\" role=\"combobox\" type=\"button\"><span style=\"pointer-events:none\"></span><svg aria-hidden=\"true\" class=\"h-4 w-4 opacity-50\" fill=\"none\" height=\"15\" viewbox=\"0 0 15 15\" width=\"15\" xmlns=\"http://www.w3.org/2000/svg\"><path clip-rule=\"evenodd\" d=\"M4.93179 5.43179C4.75605 5.60753 4.75605 5.89245 4.93179 6.06819C5.10753 6.24392 5.39245 6.24392 5.56819 6.06819L7.49999 4.13638L9.43179 6.06819C9.60753 6.24392 9.89245 6.24392 10.0682 6.06819C10.2439 5.89245 10.2439 5.60753 10.0682 5.43179L7.81819 3.18179C7.73379 3.0974 7.61933 3.04999 7.49999 3.04999C7.38064 3.04999 7.26618 3.0974 7.18179 3.18179L4.93179 5.43179ZM10.0682 9.56819C10.2439 9.39245 10.2439 9.10753 10.0682 8.93179C9.89245 8.75606 9.60753 8.75606 9.43179 8.93179L7.49999 10.8636L5.56819 8.93179C5.39245 8.75606 5.10753 8.75606 4.93179 8.93179C4.75605 9.10753 4.75605 9.39245 4.93179 9.56819L7.18179 11.8182C7.35753 11.9939 7.64245 11.9939 7.81819 11.8182L10.0682 9.56819Z\" fill=\"currentColor\" fill-rule=\"evenodd\"></path></svg></button><select aria-hidden=\"true\" style=\"position:absolute;border:0;width:1px;height:1px;padding:0;margin:-1px;overflow:hidden;clip:rect(0, 0, 0, 0);white-space:nowrap;word-wrap:normal\" tabindex=\"-1\"></select></div><div class=\"bg-[#181A20] rounded-md text-card-foreground shadow-md border border-[#363636f7]\"><div class=\"p-0 overflow-x-auto\"><div class=\"relative w-full overflow-auto\"><table class=\"w-full caption-bottom text-sm font-open border-separate border-spacing-y-[4px] p-4\"><thead class=\"[&amp;_tr]:border-b\"><tr class=\"transition-colors data-[state=selected]:bg-muted even:bg-[#0F1116] odd:bg-[#11141b] hover:bg-gray-750 text-white border-b border-[#363636f7] !bg-transparent\"><th class=\"h-10 px-2 text-left align-middle font-medium [&amp;:has([role=checkbox])]:pr-0 [&amp;&gt;[role=checkbox]]:translate-y-[2px] text-gray-400 w-48\">Hero</th><th class=\"h-10 px-2 text-left align-middle font-medium [&amp;:has([role=checkbox])]:pr-0 [&amp;&gt;[role=checkbox]]:translate-y-[2px] text-gray-400 w-32\">Result</th><th class=\"h-10 px-2 text-left align-middle font-medium [&amp;:has([role=checkbox])]:pr-0 [&amp;&gt;[role=checkbox]]:translate-y-[2px] text-gray-400 w-32\">Mode</th><th class=\"h-10 px-2 text-left align-middle font-medium [&amp;:has([role=checkbox])]:pr-0 [&amp;&gt;[role=checkbox]]:translate-y-[2px] text-gray-400 w-32\">Duration</th><th class=\"h-10 px-2 text-left align-middle font-medium [&amp;:has([role=checkbox])]:pr-0 [&amp;&gt;[role=checkbox]]:translate-y-[2px] text-gray-400 w-32\">KDA</th></tr></thead><tbody class=\"[&amp;_tr:last-child]:border-0\"><tr class=\"transition-colors data-[state=selected]:bg-muted even:bg-[#0F1116] odd:bg-[#11141b] border-b border-[#363636f7] hover:bg-gray-750 text-white\"><td class=\"p-2 align-middle [&amp;:has([role=checkbox])]:pr-0 [&amp;&gt;[role=checkbox]]:translate-y-[2px]\"><div class=\"flex items-center gap-2\"><img alt=\"Yamato\" class=\"w-12 h-12 rounded\" data-nimg=\"1\" decoding=\"async\" height=\"48\" loading=\"lazy\" src=\"/_next/image?url=%2Fpanorama%2Fimages%2Fheroes%2Fyamato_sm_psd.png&amp;w=96&amp;q=75\" srcset=\"/_next/image?url=%2Fpanorama%2Fimages%2Fheroes%2Fyamato_sm_psd.png&amp;w=48&amp;q=75 1x, /_next/image?url=%2Fpanorama%2Fimages%2Fheroes%2Fyamato_sm_psd.png&amp;w=96&amp;q=75 2x\" style=\"color:transparent\" width=\"48\"/><div><span class=\"font-medium\">Yamato</span><div class=\"text-sm text-gray-400\">30748938</div></div></div></td><td class=\"p-2 align-middle [&amp;:has([role=checkbox])]:pr-0 [&amp;&gt;[role=checkbox]]:translate-y-[2px]\"><div class=\"flex flex-col\"><span class=\"text-green-500 font-medium\">Win</span><span class=\"text-sm text-gray-400\">Dec 20, 2024</span></div></td><td class=\"p-2 align-middle [&amp;:has([role=checkbox])]:pr-0 [&amp;&gt;[role=checkbox]]:translate-y-[2px]\"><span class=\"font-medium\">Normal</span></td><td class=\"p-2 align-middle [&amp;:has([role=checkbox])]:pr-0 [&amp;&gt;[role=checkbox]]:translate-y-[2px]\"><div class=\"flex flex-col gap-1\"><span>29<!-- --> min</span><svg height=\"6\" width=\"120\"><rect fill=\"transparent\" height=\"6\" rx=\"3\" ry=\"3\" width=\"120\"></rect><rect fill=\"rgb(135, 154, 187)\" height=\"6\" rx=\"3\" ry=\"3\" width=\"78.51301115241635\"></rect></svg></div></td><td class=\"p-2 align-middle [&amp;:has([role=checkbox])]:pr-0 [&amp;&gt;[role=checkbox]]:translate-y-[2px]\"><div class=\"flex flex-col gap-1\"><span class=\"font-medium\">5/1/7</span><svg height=\"6\" width=\"120\"><rect fill=\"rgb(100, 150, 100)\" height=\"6\" rx=\"3\" width=\"46.15384615384615\" x=\"0\" y=\"0\"></rect><rect fill=\"rgb(180, 100, 100)\" height=\"6\" rx=\"3\" width=\"9.230769230769232\" x=\"46.15384615384615\" y=\"0\"></rect><rect fill=\"rgb(120, 120, 120)\" height=\"6\" rx=\"3\" width=\"64.61538461538461\" x=\"55.38461538461539\" y=\"0\"></rect></svg></div></td></tr><tr class=\"transition-colors data-[state=selected]:bg-muted even:bg-[#0F1116] odd:bg-[#11141b] border-b border-[#363636f7] hover:bg-gray-750 text-white\"><td class=\"p-2 align-middle [&amp;:has([role=checkbox])]:pr-0 [&amp;&gt;[role=checkbox]]:translate-y-[2px]\"><div class=\"flex items-center gap-2\"><img alt=\"Lady Geist\" class=\"w-12 h-12 rounded\" data-nimg=\"1\" decoding=\"async\" height=\"48\" loading=\"lazy\" src=\"/_next/image?url=%2Fpanorama%2Fimages%2Fheroes%2Fspectre_sm_psd.png&amp;w=96&amp;q=75\" srcset=\"/_next/image?url=%2Fpanorama%2Fimages%2Fheroes%2Fspectre_sm_psd.png&amp;w=48&amp;q=75 1x, /_next/image?url=%2Fpanorama%2Fimages%2Fheroes%2Fspectre_sm_psd.png&amp;w=96&amp;q=75 2x\" style=\"color:transparent\" width=\"48\"/><div><span class=\"font-medium\">Lady Geist</span><div class=\"text-sm text-gray-400\">30593152</div></div></div></td><td class=\"p-2 align-middle [&amp;:has([role=checkbox])]:pr-0 [&amp;&gt;[role=checkbox]]:translate-y-[2px]\"><div class=\"flex flex-col\"><span class=\"text-red-500 font-medium\">Loss</span><span class=\"text-sm text-gray-400\">Dec 17, 2024</span></div></td><td class=\"p-2 align-middle [&amp;:has([role=checkbox])]:pr-0 [&amp;&gt;[role=checkbox]]:translate-y-[2px]\"><span class=\"font-medium\">Normal</span></td><td class=\"p-2 align-middle [&amp;:has([role=checkbox])]:pr-0 [&amp;&gt;[role=checkbox]]:translate-y-[2px]\"><div class=\"flex flex-col gap-1\"><span>34<!-- --> min</span><svg height=\"6\" width=\"120\"><rect fill=\"transparent\" height=\"6\" rx=\"3\" ry=\"3\" width=\"120\"></rect><rect fill=\"rgb(123, 146, 185)\" height=\"6\" rx=\"3\" ry=\"3\" width=\"92.92193308550185\"></rect></svg></div></td><td class=\"p-2 align-middle [&amp;:has([role=checkbox])]:pr-0 [&amp;&gt;[role=checkbox]]:translate-y-[2px]\"><div class=\"flex flex-col gap-1\"><span class=\"font-medium\">2/11/1</span><svg height=\"6\" width=\"120\"><rect fill=\"rgb(100, 150, 100)\" height=\"6\" rx=\"3\" width=\"17.142857142857142\" x=\"0\" y=\"0\"></rect><rect fill=\"rgb(180, 100, 100)\" height=\"6\" rx=\"3\" width=\"94.28571428571428\" x=\"17.142857142857142\" y=\"0\"></rect><rect fill=\"rgb(120, 120, 120)\" height=\"6\" rx=\"3\" width=\"8.571428571428571\" x=\"111.42857142857142\" y=\"0\"></rect></svg></div></td></tr><tr class=\"transition-colors data-[state=selected]:bg-muted even:bg-[#0F1116] odd:bg-[#11141b] border-b border-[#363636f7] hover:bg-gray-750 text-white\"><td class=\"p-2 align-middle [&amp;:has([role=checkbox])]:pr-0 [&amp;&gt;[role=checkbox]]:translate-y-[2px]\"><div class=\"flex items-center gap-2\"><img alt=\"Yamato\" class=\"w-12 h-12 rounded\" data-nimg=\"1\" decoding=\"async\" height=\"48\" loading=\"lazy\" src=\"/_next/image?url=%2Fpanorama%2Fimages%2Fheroes%2Fyamato_sm_psd.png&amp;w=96&amp;q=75\" srcset=\"/_next/image?url=%2Fpanorama%2Fimages%2Fheroes%2Fyamato_sm_psd.png&amp;w=48&amp;q=75 1x, /_next/image?url=%2Fpanorama%2Fimages%2Fheroes%2Fyamato_sm_psd.png&amp;w=96&amp;q=75 2x\" style=\"color:transparent\" width=\"48\"/><div><span class=\"font-medium\">Yamato</span><div class=\"text-sm text-gray-400\">30546558</div></div></div></td><td class=\"p-2 align-middle [&amp;:has([role=checkbox])]:pr-0 [&amp;&gt;[role=checkbox]]:translate-y-[2px]\"><div class=\"flex flex-col\"><span class=\"text-green-500 font-medium\">Win</span><span class=\"text-sm text-gray-400\">Dec 16, 2024</span></div></td><td class=\"p-2 align-middle [&amp;:has([role=checkbox])]:pr-0 [&amp;&gt;[role=checkbox]]:translate-y-[2px]\"><span class=\"font-medium\">Normal</span></td><td class=\"p-2 align-middle [&amp;:has([role=checkbox])]:pr-0 [&amp;&gt;[role=checkbox]]:translate-y-[2px]\"><div class=\"flex flex-col gap-1\"><span>24<!-- --> min</span><svg height=\"6\" width=\"120\"><rect fill=\"transparent\" height=\"6\" rx=\"3\" ry=\"3\" width=\"120\"></rect><rect fill=\"rgb(146, 162, 189)\" height=\"6\" rx=\"3\" ry=\"3\" width=\"64.32713754646839\"></rect></svg></div></td><td class=\"p-2 align-middle [&amp;:has([role=checkbox])]:pr-0 [&amp;&gt;[role=checkbox]]:translate-y-[2px]\"><div class=\"flex flex-col gap-1\"><span class=\"font-medium\">1/1/12</span><svg height=\"6\" width=\"120\"><rect fill=\"rgb(100, 150, 100)\" height=\"6\" rx=\"3\" width=\"8.571428571428571\" x=\"0\" y=\"0\"></rect><rect fill=\"rgb(180, 100, 100)\" height=\"6\" rx=\"3\" width=\"8.571428571428571\" x=\"8.571428571428571\" y=\"0\"></rect><rect fill=\"rgb(120, 120, 120)\" height=\"6\" rx=\"3\" width=\"102.85714285714285\" x=\"17.142857142857142\" y=\"0\"></rect></svg></div></td></tr><tr class=\"transition-colors data-[state=selected]:bg-muted even:bg-[#0F1116] odd:bg-[#11141b] border-b border-[#363636f7] hover:bg-gray-750 text-white\"><td class=\"p-2 align-middle [&amp;:has([role=checkbox])]:pr-0 [&amp;&gt;[role=checkbox]]:translate-y-[2px]\"><div class=\"flex items-center gap-2\"><img alt=\"Lady Geist\" class=\"w-12 h-12 rounded\" data-nimg=\"1\" decoding=\"async\" height=\"48\" loading=\"lazy\" src=\"/_next/image?url=%2Fpanorama%2Fimages%2Fheroes%2Fspectre_sm_psd.png&amp;w=96&amp;q=75\" srcset=\"/_next/image?url=%2Fpanorama%2Fimages%2Fheroes%2Fspectre_sm_psd.png&amp;w=48&amp;q=75 1x, /_next/image?url=%2Fpanorama%2Fimages%2Fheroes%2Fspectre_sm_psd.png&amp;w=96&amp;q=75 2x\" style=\"color:transparent\" width=\"48\"/><div><span class=\"font-medium\">Lady Geist</span><div class=\"text-sm text-gray-400\">30231057</div></div></div></td><td class=\"p-2 align-middle [&amp;:has([role=checkbox])]:pr-0 [&amp;&gt;[role=checkbox]]:translate-y-[2px]\"><div class=\"flex flex-col\"><span class=\"text-red-500 font-medium\">Loss</span><span class=\"text-sm text-gray-400\">Dec 10, 2024</span></div></td><td class=\"p-2 align-middle [&amp;:has([role=checkbox])]:pr-0 [&amp;&gt;[role=checkbox]]:translate-y-[2px]\"><span class=\"font-medium\">Normal</span></td><td class=\"p-2 align-middle [&amp;:has([role=checkbox])]:pr-0 [&amp;&gt;[role=checkbox]]:translate-y-[2px]\"><div class=\"flex flex-col gap-1\"><span>52<!-- --> min</span><svg height=\"6\" width=\"120\"><rect fill=\"transparent\" height=\"6\" rx=\"3\" ry=\"3\" width=\"120\"></rect><rect fill=\"rgb(100, 130, 180)\" height=\"6\" rx=\"3\" ry=\"3\" width=\"120\"></rect></svg></div></td><td class=\"p-2 align-middle [&amp;:has([role=checkbox])]:pr-0 [&amp;&gt;[role=checkbox]]:translate-y-[2px]\"><div class=\"flex flex-col gap-1\"><span class=\"font-medium\">8/10/18</span><svg height=\"6\" width=\"120\"><rect fill=\"rgb(100, 150, 100)\" height=\"6\" rx=\"3\" width=\"26.666666666666664\" x=\"0\" y=\"0\"></rect><rect fill=\"rgb(180, 100, 100)\" height=\"6\" rx=\"3\" width=\"33.333333333333336\" x=\"26.666666666666664\" y=\"0\"></rect><rect fill=\"rgb(120, 120, 120)\" height=\"6\" rx=\"3\" width=\"60\" x=\"60\" y=\"0\"></rect></svg></div></td></tr><tr class=\"transition-colors data-[state=selected]:bg-muted even:bg-[#0F1116] odd:bg-[#11141b] border-b border-[#363636f7] hover:bg-gray-750 text-white\"><td class=\"p-2 align-middle [&amp;:has([role=checkbox])]:pr-0 [&amp;&gt;[role=checkbox]]:translate-y-[2px]\"><div class=\"flex items-center gap-2\"><img alt=\"Lady Geist\" class=\"w-12 h-12 rounded\" data-nimg=\"1\" decoding=\"async\" height=\"48\" loading=\"lazy\" src=\"/_next/image?url=%2Fpanorama%2Fimages%2Fheroes%2Fspectre_sm_psd.png&amp;w=96&amp;q=75\" srcset=\"/_next/image?url=%2Fpanorama%2Fimages%2Fheroes%2Fspectre_sm_psd.png&amp;w=48&amp;q=75 1x, /_next/image?url=%2Fpanorama%2Fimages%2Fheroes%2Fspectre_sm_psd.png&amp;w=96&amp;q=75 2x\" style=\"color:transparent\" width=\"48\"/><div><span class=\"font-medium\">Lady Geist</span><div class=\"text-sm text-gray-400\">30172398</div></div></div></td><td class=\"p-2 align-middle [&amp;:has([role=checkbox])]:pr-0 [&amp;&gt;[role=checkbox]]:translate-y-[2px]\"><div class=\"flex flex-col\"><span class=\"text-green-500 font-medium\">Win</span><span class=\"text-sm text-gray-400\">Dec 9, 2024</span></div></td><td class=\"p-2 align-middle [&amp;:has([role=checkbox])]:pr-0 [&amp;&gt;[role=checkbox]]:translate-y-[2px]\"><span class=\"font-medium\">Normal</span></td><td class=\"p-2 align-middle [&amp;:has([role=checkbox])]:pr-0 [&amp;&gt;[role=checkbox]]:translate-y-[2px]\"><div class=\"flex flex-col gap-1\"><span>55<!-- --> min</span><svg height=\"6\" width=\"120\"><rect fill=\"transparent\" height=\"6\" rx=\"3\" ry=\"3\" width=\"120\"></rect><rect fill=\"rgb(100, 130, 180)\" height=\"6\" rx=\"3\" ry=\"3\" width=\"120\"></rect></svg></div></td><td class=\"p-2 align-middle [&amp;:has([role=checkbox])]:pr-0 [&amp;&gt;[role=checkbox]]:translate-y-[2px]\"><div class=\"flex flex-col gap-1\"><span class=\"font-medium\">5/6/10</span><svg height=\"6\" width=\"120\"><rect fill=\"rgb(100, 150, 100)\" height=\"6\" rx=\"3\" width=\"28.57142857142857\" x=\"0\" y=\"0\"></rect><rect fill=\"rgb(180, 100, 100)\" height=\"6\" rx=\"3\" width=\"34.285714285714285\" x=\"28.57142857142857\" y=\"0\"></rect><rect fill=\"rgb(120, 120, 120)\" height=\"6\" rx=\"3\" width=\"57.14285714285714\" x=\"62.857142857142854\" y=\"0\"></rect></svg></div></td></tr><tr class=\"transition-colors data-[state=selected]:bg-muted even:bg-[#0F1116] odd:bg-[#11141b] border-b border-[#363636f7] hover:bg-gray-750 text-white\"><td class=\"p-2 align-middle [&amp;:has([role=checkbox])]:pr-0 [&amp;&gt;[role=checkbox]]:translate-y-[2px]\"><div class=\"flex items-center gap-2\"><img alt=\"Pocket\" class=\"w-12 h-12 rounded\" data-nimg=\"1\" decoding=\"async\" height=\"48\" loading=\"lazy\" src=\"/_next/image?url=%2Fpanorama%2Fimages%2Fheroes%2Fsynth_sm_psd.png&amp;w=96&amp;q=75\" srcset=\"/_next/image?url=%2Fpanorama%2Fimages%2Fheroes%2Fsynth_sm_psd.png&amp;w=48&amp;q=75 1x, /_next/image?url=%2Fpanorama%2Fimages%2Fheroes%2Fsynth_sm_psd.png&amp;w=96&amp;q=75 2x\" style=\"color:transparent\" width=\"48\"/><div><span class=\"font-medium\">Pocket</span><div class=\"text-sm text-gray-400\">30171315</div></div></div></td><td class=\"p-2 align-middle [&amp;:has([role=checkbox])]:pr-0 [&amp;&gt;[role=checkbox]]:translate-y-[2px]\"><div class=\"flex flex-col\"><span class=\"text-green-500 font-medium\">Win</span><span class=\"text-sm text-gray-400\">Dec 9, 2024</span></div></td><td class=\"p-2 align-middle [&amp;:has([role=checkbox])]:pr-0 [&amp;&gt;[role=checkbox]]:translate-y-[2px]\"><span class=\"font-medium\">Normal</span></td><td class=\"p-2 align-middle [&amp;:has([role=checkbox])]:pr-0 [&amp;&gt;[role=checkbox]]:translate-y-[2px]\"><div class=\"flex flex-col gap-1\"><span>16<!-- --> min</span><svg height=\"6\" width=\"120\"><rect fill=\"transparent\" height=\"6\" rx=\"3\" ry=\"3\" width=\"120\"></rect><rect fill=\"rgb(163, 174, 193)\" height=\"6\" rx=\"3\" ry=\"3\" width=\"43.85130111524163\"></rect></svg></div></td><td class=\"p-2 align-middle [&amp;:has([role=checkbox])]:pr-0 [&amp;&gt;[role=checkbox]]:translate-y-[2px]\"><div class=\"flex flex-col gap-1\"><span class=\"font-medium\">4/1/6</span><svg height=\"6\" width=\"120\"><rect fill=\"rgb(100, 150, 100)\" height=\"6\" rx=\"3\" width=\"43.63636363636364\" x=\"0\" y=\"0\"></rect><rect fill=\"rgb(180, 100, 100)\" height=\"6\" rx=\"3\" width=\"10.90909090909091\" x=\"43.63636363636364\" y=\"0\"></rect><rect fill=\"rgb(120, 120, 120)\" height=\"6\" rx=\"3\" width=\"65.45454545454545\" x=\"54.54545454545455\" y=\"0\"></rect></svg></div></td></tr><tr class=\"transition-colors data-[state=selected]:bg-muted even:bg-[#0F1116] odd:bg-[#11141b] border-b border-[#363636f7] hover:bg-gray-750 text-white\"><td class=\"p-2 align-middle [&amp;:has([role=checkbox])]:pr-0 [&amp;&gt;[role=checkbox]]:translate-y-[2px]\"><div class=\"flex items-center gap-2\"><img alt=\"Lady Geist\" class=\"w-12 h-12 rounded\" data-nimg=\"1\" decoding=\"async\" height=\"48\" loading=\"lazy\" src=\"/_next/image?url=%2Fpanorama%2Fimages%2Fheroes%2Fspectre_sm_psd.png&amp;w=96&amp;q=75\" srcset=\"/_next/image?url=%2Fpanorama%2Fimages%2Fheroes%2Fspectre_sm_psd.png&amp;w=48&amp;q=75 1x, /_next/image?url=%2Fpanorama%2Fimages%2Fheroes%2Fspectre_sm_psd.png&amp;w=96&amp;q=75 2x\" style=\"color:transparent\" width=\"48\"/><div><span class=\"font-medium\">Lady Geist</span><div class=\"text-sm text-gray-400\">30168507</div></div></div></td><td class=\"p-2 align-middle [&amp;:has([role=checkbox])]:pr-0 [&amp;&gt;[role=checkbox]]:translate-y-[2px]\"><div class=\"flex flex-col\"><span class=\"text-green-500 font-medium\">Win</span><span class=\"text-sm text-gray-400\">Dec 9, 2024</span></div></td><td class=\"p-2 align-middle [&amp;:has([role=checkbox])]:pr-0 [&amp;&gt;[role=checkbox]]:translate-y-[2px]\"><span class=\"font-medium\">Normal</span></td><td class=\"p-2 align-middle [&amp;:has([role=checkbox])]:pr-0 [&amp;&gt;[role=checkbox]]:translate-y-[2px]\"><div class=\"flex flex-col gap-1\"><span>25<!-- --> min</span><svg height=\"6\" width=\"120\"><rect fill=\"transparent\" height=\"6\" rx=\"3\" ry=\"3\" width=\"120\"></rect><rect fill=\"rgb(143, 160, 189)\" height=\"6\" rx=\"3\" ry=\"3\" width=\"68.83271375464685\"></rect></svg></div></td><td class=\"p-2 align-middle [&amp;:has([role=checkbox])]:pr-0 [&amp;&gt;[role=checkbox]]:translate-y-[2px]\"><div class=\"flex flex-col gap-1\"><span class=\"font-medium\">2/1/4</span><svg height=\"6\" width=\"120\"><rect fill=\"rgb(100, 150, 100)\" height=\"6\" rx=\"3\" width=\"34.285714285714285\" x=\"0\" y=\"0\"></rect><rect fill=\"rgb(180, 100, 100)\" height=\"6\" rx=\"3\" width=\"17.142857142857142\" x=\"34.285714285714285\" y=\"0\"></rect><rect fill=\"rgb(120, 120, 120)\" height=\"6\" rx=\"3\" width=\"68.57142857142857\" x=\"51.42857142857143\" y=\"0\"></rect></svg></div></td></tr><tr class=\"transition-colors data-[state=selected]:bg-muted even:bg-[#0F1116] odd:bg-[#11141b] border-b border-[#363636f7] hover:bg-gray-750 text-white\"><td class=\"p-2 align-middle [&amp;:has([role=checkbox])]:pr-0 [&amp;&gt;[role=checkbox]]:translate-y-[2px]\"><div class=\"flex items-center gap-2\"><img alt=\"Lady Geist\" class=\"w-12 h-12 rounded\" data-nimg=\"1\" decoding=\"async\" height=\"48\" loading=\"lazy\" src=\"/_next/image?url=%2Fpanorama%2Fimages%2Fheroes%2Fspectre_sm_psd.png&amp;w=96&amp;q=75\" srcset=\"/_next/image?url=%2Fpanorama%2Fimages%2Fheroes%2Fspectre_sm_psd.png&amp;w=48&amp;q=75 1x, /_next/image?url=%2Fpanorama%2Fimages%2Fheroes%2Fspectre_sm_psd.png&amp;w=96&amp;q=75 2x\" style=\"color:transparent\" width=\"48\"/><div><span class=\"font-medium\">Lady Geist</span><div class=\"text-sm text-gray-400\">30029597</div></div></div></td><td class=\"p-2 align-middle [&amp;:has([role=checkbox])]:pr-0 [&amp;&gt;[role=checkbox]]:translate-y-[2px]\"><div class=\"flex flex-col\"><span class=\"text-red-500 font-medium\">Loss</span><span class=\"text-sm text-gray-400\">Dec 7, 2024</span></div></td><td class=\"p-2 align-middle [&amp;:has([role=checkbox])]:pr-0 [&amp;&gt;[role=checkbox]]:translate-y-[2px]\"><span class=\"font-medium\">Normal</span></td><td class=\"p-2 align-middle [&amp;:has([role=checkbox])]:pr-0 [&amp;&gt;[role=checkbox]]:translate-y-[2px]\"><div class=\"flex flex-col gap-1\"><span>34<!-- --> min</span><svg height=\"6\" width=\"120\"><rect fill=\"transparent\" height=\"6\" rx=\"3\" ry=\"3\" width=\"120\"></rect><rect fill=\"rgb(123, 146, 185)\" height=\"6\" rx=\"3\" ry=\"3\" width=\"92.38661710037175\"></rect></svg></div></td><td class=\"p-2 align-middle [&amp;:has([role=checkbox])]:pr-0 [&amp;&gt;[role=checkbox]]:translate-y-[2px]\"><div class=\"flex flex-col gap-1\"><span class=\"font-medium\">1/4/6</span><svg height=\"6\" width=\"120\"><rect fill=\"rgb(100, 150, 100)\" height=\"6\" rx=\"3\" width=\"10.90909090909091\" x=\"0\" y=\"0\"></rect><rect fill=\"rgb(180, 100, 100)\" height=\"6\" rx=\"3\" width=\"43.63636363636364\" x=\"10.90909090909091\" y=\"0\"></rect><rect fill=\"rgb(120, 120, 120)\" height=\"6\" rx=\"3\" width=\"65.45454545454545\" x=\"54.54545454545455\" y=\"0\"></rect></svg></div></td></tr><tr class=\"transition-colors data-[state=selected]:bg-muted even:bg-[#0F1116] odd:bg-[#11141b] border-b border-[#363636f7] hover:bg-gray-750 text-white\"><td class=\"p-2 align-middle [&amp;:has([role=checkbox])]:pr-0 [&amp;&gt;[role=checkbox]]:translate-y-[2px]\"><div class=\"flex items-center gap-2\"><img alt=\"Lady Geist\" class=\"w-12 h-12 rounded\" data-nimg=\"1\" decoding=\"async\" height=\"48\" loading=\"lazy\" src=\"/_next/image?url=%2Fpanorama%2Fimages%2Fheroes%2Fspectre_sm_psd.png&amp;w=96&amp;q=75\" srcset=\"/_next/image?url=%2Fpanorama%2Fimages%2Fheroes%2Fspectre_sm_psd.png&amp;w=48&amp;q=75 1x, /_next/image?url=%2Fpanorama%2Fimages%2Fheroes%2Fspectre_sm_psd.png&amp;w=96&amp;q=75 2x\" style=\"color:transparent\" width=\"48\"/><div><span class=\"font-medium\">Lady Geist</span><div class=\"text-sm text-gray-400\">30026635</div></div></div></td><td class=\"p-2 align-middle [&amp;:has([role=checkbox])]:pr-0 [&amp;&gt;[role=checkbox]]:translate-y-[2px]\"><div class=\"flex flex-col\"><span class=\"text-green-500 font-medium\">Win</span><span class=\"text-sm text-gray-400\">Dec 7, 2024</span></div></td><td class=\"p-2 align-middle [&amp;:has([role=checkbox])]:pr-0 [&amp;&gt;[role=checkbox]]:translate-y-[2px]\"><span class=\"font-medium\">Normal</span></td><td class=\"p-2 align-middle [&amp;:has([role=checkbox])]:pr-0 [&amp;&gt;[role=checkbox]]:translate-y-[2px]\"><div class=\"flex flex-col gap-1\"><span>33<!-- --> min</span><svg height=\"6\" width=\"120\"><rect fill=\"transparent\" height=\"6\" rx=\"3\" ry=\"3\" width=\"120\"></rect><rect fill=\"rgb(126, 149, 185)\" height=\"6\" rx=\"3\" ry=\"3\" width=\"88.23791821561339\"></rect></svg></div></td><td class=\"p-2 align-middle [&amp;:has([role=checkbox])]:pr-0 [&amp;&gt;[role=checkbox]]:translate-y-[2px]\"><div class=\"flex flex-col gap-1\"><span class=\"font-medium\">9/2/8</span><svg height=\"6\" width=\"120\"><rect fill=\"rgb(100, 150, 100)\" height=\"6\" rx=\"3\" width=\"56.84210526315789\" x=\"0\" y=\"0\"></rect><rect fill=\"rgb(180, 100, 100)\" height=\"6\" rx=\"3\" width=\"12.631578947368421\" x=\"56.84210526315789\" y=\"0\"></rect><rect fill=\"rgb(120, 120, 120)\" height=\"6\" rx=\"3\" width=\"50.526315789473685\" x=\"69.47368421052632\" y=\"0\"></rect></svg></div></td></tr><tr class=\"transition-colors data-[state=selected]:bg-muted even:bg-[#0F1116] odd:bg-[#11141b] border-b border-[#363636f7] hover:bg-gray-750 text-white\"><td class=\"p-2 align-middle [&amp;:has([role=checkbox])]:pr-0 [&amp;&gt;[role=checkbox]]:translate-y-[2px]\"><div class=\"flex items-center gap-2\"><img alt=\"Vindicta\" class=\"w-12 h-12 rounded\" data-nimg=\"1\" decoding=\"async\" height=\"48\" loading=\"lazy\" src=\"/_next/image?url=%2Fpanorama%2Fimages%2Fheroes%2Fhornet_sm_psd.png&amp;w=96&amp;q=75\" srcset=\"/_next/image?url=%2Fpanorama%2Fimages%2Fheroes%2Fhornet_sm_psd.png&amp;w=48&amp;q=75 1x, /_next/image?url=%2Fpanorama%2Fimages%2Fheroes%2Fhornet_sm_psd.png&amp;w=96&amp;q=75 2x\" style=\"color:transparent\" width=\"48\"/><div><span class=\"font-medium\">Vindicta</span><div class=\"text-sm text-gray-400\">29956158</div></div></div></td><td class=\"p-2 align-middle [&amp;:has([role=checkbox])]:pr-0 [&amp;&gt;[role=checkbox]]:translate-y-[2px]\"><div class=\"flex flex-col\"><span class=\"text-red-500 font-medium\">Loss</span><span class=\"text-sm text-gray-400\">Dec 6, 2024</span></div></td><td class=\"p-2 align-middle [&amp;:has([role=checkbox])]:pr-0 [&amp;&gt;[role=checkbox]]:translate-y-[2px]\"><span class=\"font-medium\">Normal</span></td><td class=\"p-2 align-middle [&amp;:has([role=checkbox])]:pr-0 [&amp;&gt;[role=checkbox]]:translate-y-[2px]\"><div class=\"flex flex-col gap-1\"><span>36<!-- --> min</span><svg height=\"6\" width=\"120\"><rect fill=\"transparent\" height=\"6\" rx=\"3\" ry=\"3\" width=\"120\"></rect><rect fill=\"rgb(119, 144, 184)\" height=\"6\" rx=\"3\" ry=\"3\" width=\"96.71375464684016\"></rect></svg></div></td><td class=\"p-2 align-middle [&amp;:has([role=checkbox])]:pr-0 [&amp;&gt;[role=checkbox]]:translate-y-[2px]\"><div class=\"flex flex-col gap-1\"><span class=\"font-medium\">5/2/8</span><svg height=\"6\" width=\"120\"><rect fill=\"rgb(100, 150, 100)\" height=\"6\" rx=\"3\" width=\"40\" x=\"0\" y=\"0\"></rect><rect fill=\"rgb(180, 100, 100)\" height=\"6\" rx=\"3\" width=\"16\" x=\"40\" y=\"0\"></rect><rect fill=\"rgb(120, 120, 120)\" height=\"6\" rx=\"3\" width=\"64\" x=\"56\" y=\"0\"></rect></svg></div></td></tr><tr class=\"transition-colors data-[state=selected]:bg-muted even:bg-[#0F1116] odd:bg-[#11141b] border-b border-[#363636f7] hover:bg-gray-750 text-white\"><td class=\"p-2 align-middle [&amp;:has([role=checkbox])]:pr-0 [&amp;&gt;[role=checkbox]]:translate-y-[2px]\"><div class=\"flex items-center gap-2\"><img alt=\"Yamato\" class=\"w-12 h-12 rounded\" data-nimg=\"1\" decoding=\"async\" height=\"48\" loading=\"lazy\" src=\"/_next/image?url=%2Fpanorama%2Fimages%2Fheroes%2Fyamato_sm_psd.png&amp;w=96&amp;q=75\" srcset=\"/_next/image?url=%2Fpanorama%2Fimages%2Fheroes%2Fyamato_sm_psd.png&amp;w=48&amp;q=75 1x, /_next/image?url=%2Fpanorama%2Fimages%2Fheroes%2Fyamato_sm_psd.png&amp;w=96&amp;q=75 2x\" style=\"color:transparent\" width=\"48\"/><div><span class=\"font-medium\">Yamato</span><div class=\"text-sm text-gray-400\">29953005</div></div></div></td><td class=\"p-2 align-middle [&amp;:has([role=checkbox])]:pr-0 [&amp;&gt;[role=checkbox]]:translate-y-[2px]\"><div class=\"flex flex-col\"><span class=\"text-red-500 font-medium\">Loss</span><span class=\"text-sm text-gray-400\">Dec 6, 2024</span></div></td><td class=\"p-2 align-middle [&amp;:has([role=checkbox])]:pr-0 [&amp;&gt;[role=checkbox]]:translate-y-[2px]\"><span class=\"font-medium\">Normal</span></td><td class=\"p-2 align-middle [&amp;:has([role=checkbox])]:pr-0 [&amp;&gt;[role=checkbox]]:translate-y-[2px]\"><div class=\"flex flex-col gap-1\"><span>27<!-- --> min</span><svg height=\"6\" width=\"120\"><rect fill=\"transparent\" height=\"6\" rx=\"3\" ry=\"3\" width=\"120\"></rect><rect fill=\"rgb(139, 158, 188)\" height=\"6\" rx=\"3\" ry=\"3\" width=\"72.71375464684014\"></rect></svg></div></td><td class=\"p-2 align-middle [&amp;:has([role=checkbox])]:pr-0 [&amp;&gt;[role=checkbox]]:translate-y-[2px]\"><div class=\"flex flex-col gap-1\"><span class=\"font-medium\">6/6/3</span><svg height=\"6\" width=\"120\"><rect fill=\"rgb(100, 150, 100)\" height=\"6\" rx=\"3\" width=\"48\" x=\"0\" y=\"0\"></rect><rect fill=\"rgb(180, 100, 100)\" height=\"6\" rx=\"3\" width=\"48\" x=\"48\" y=\"0\"></rect><rect fill=\"rgb(120, 120, 120)\" height=\"6\" rx=\"3\" width=\"24\" x=\"96\" y=\"0\"></rect></svg></div></td></tr><tr class=\"transition-colors data-[state=selected]:bg-muted even:bg-[#0F1116] odd:bg-[#11141b] border-b border-[#363636f7] hover:bg-gray-750 text-white\"><td class=\"p-2 align-middle [&amp;:has([role=checkbox])]:pr-0 [&amp;&gt;[role=checkbox]]:translate-y-[2px]\"><div class=\"flex items-center gap-2\"><img alt=\"Vindicta\" class=\"w-12 h-12 rounded\" data-nimg=\"1\" decoding=\"async\" height=\"48\" loading=\"lazy\" src=\"/_next/image?url=%2Fpanorama%2Fimages%2Fheroes%2Fhornet_sm_psd.png&amp;w=96&amp;q=75\" srcset=\"/_next/image?url=%2Fpanorama%2Fimages%2Fheroes%2Fhornet_sm_psd.png&amp;w=48&amp;q=75 1x, /_next/image?url=%2Fpanorama%2Fimages%2Fheroes%2Fhornet_sm_psd.png&amp;w=96&amp;q=75 2x\" style=\"color:transparent\" width=\"48\"/><div><span class=\"font-medium\">Vindicta</span><div class=\"text-sm text-gray-400\">29943124</div></div></div></td><td class=\"p-2 align-middle [&amp;:has([role=checkbox])]:pr-0 [&amp;&gt;[role=checkbox]]:translate-y-[2px]\"><div class=\"flex flex-col\"><span class=\"text-red-500 font-medium\">Loss</span><span class=\"text-sm text-gray-400\">Dec 6, 2024</span></div></td><td class=\"p-2 align-middle [&amp;:has([role=checkbox])]:pr-0 [&amp;&gt;[role=checkbox]]:translate-y-[2px]\"><span class=\"font-medium\">Normal</span></td><td class=\"p-2 align-middle [&amp;:has([role=checkbox])]:pr-0 [&amp;&gt;[role=checkbox]]:translate-y-[2px]\"><div class=\"flex flex-col gap-1\"><span>51<!-- --> min</span><svg height=\"6\" width=\"120\"><rect fill=\"transparent\" height=\"6\" rx=\"3\" ry=\"3\" width=\"120\"></rect><rect fill=\"rgb(100, 130, 180)\" height=\"6\" rx=\"3\" ry=\"3\" width=\"120\"></rect></svg></div></td><td class=\"p-2 align-middle [&amp;:has([role=checkbox])]:pr-0 [&amp;&gt;[role=checkbox]]:translate-y-[2px]\"><div class=\"flex flex-col gap-1\"><span class=\"font-medium\">3/6/11</span><svg height=\"6\" width=\"120\"><rect fill=\"rgb(100, 150, 100)\" height=\"6\" rx=\"3\" width=\"18\" x=\"0\" y=\"0\"></rect><rect fill=\"rgb(180, 100, 100)\" height=\"6\" rx=\"3\" width=\"36\" x=\"18\" y=\"0\"></rect><rect fill=\"rgb(120, 120, 120)\" height=\"6\" rx=\"3\" width=\"66\" x=\"54\" y=\"0\"></rect></svg></div></td></tr><tr class=\"transition-colors data-[state=selected]:bg-muted even:bg-[#0F1116] odd:bg-[#11141b] border-b border-[#363636f7] hover:bg-gray-750 text-white\"><td class=\"p-2 align-middle [&amp;:has([role=checkbox])]:pr-0 [&amp;&gt;[role=checkbox]]:translate-y-[2px]\"><div class=\"flex items-center gap-2\"><img alt=\"Vindicta\" class=\"w-12 h-12 rounded\" data-nimg=\"1\" decoding=\"async\" height=\"48\" loading=\"lazy\" src=\"/_next/image?url=%2Fpanorama%2Fimages%2Fheroes%2Fhornet_sm_psd.png&amp;w=96&amp;q=75\" srcset=\"/_next/image?url=%2Fpanorama%2Fimages%2Fheroes%2Fhornet_sm_psd.png&amp;w=48&amp;q=75 1x, /_next/image?url=%2Fpanorama%2Fimages%2Fheroes%2Fhornet_sm_psd.png&amp;w=96&amp;q=75 2x\" style=\"color:transparent\" width=\"48\"/><div><span class=\"font-medium\">Vindicta</span><div class=\"text-sm text-gray-400\">29940579</div></div></div></td><td class=\"p-2 align-middle [&amp;:has([role=checkbox])]:pr-0 [&amp;&gt;[role=checkbox]]:translate-y-[2px]\"><div class=\"flex flex-col\"><span class=\"text-red-500 font-medium\">Loss</span><span class=\"text-sm text-gray-400\">Dec 6, 2024</span></div></td><td class=\"p-2 align-middle [&amp;:has([role=checkbox])]:pr-0 [&amp;&gt;[role=checkbox]]:translate-y-[2px]\"><span class=\"font-medium\">Normal</span></td><td class=\"p-2 align-middle [&amp;:has([role=checkbox])]:pr-0 [&amp;&gt;[role=checkbox]]:translate-y-[2px]\"><div class=\"flex flex-col gap-1\"><span>36<!-- --> min</span><svg height=\"6\" width=\"120\"><rect fill=\"transparent\" height=\"6\" rx=\"3\" ry=\"3\" width=\"120\"></rect><rect fill=\"rgb(118, 143, 184)\" height=\"6\" rx=\"3\" ry=\"3\" width=\"98.00743494423793\"></rect></svg></div></td><td class=\"p-2 align-middle [&amp;:has([role=checkbox])]:pr-0 [&amp;&gt;[role=checkbox]]:translate-y-[2px]\"><div class=\"flex flex-col gap-1\"><span class=\"font-medium\">5/4/10</span><svg height=\"6\" width=\"120\"><rect fill=\"rgb(100, 150, 100)\" height=\"6\" rx=\"3\" width=\"31.57894736842105\" x=\"0\" y=\"0\"></rect><rect fill=\"rgb(180, 100, 100)\" height=\"6\" rx=\"3\" width=\"25.263157894736842\" x=\"31.57894736842105\" y=\"0\"></rect><rect fill=\"rgb(120, 120, 120)\" height=\"6\" rx=\"3\" width=\"63.1578947368421\" x=\"56.84210526315789\" y=\"0\"></rect></svg></div></td></tr><tr class=\"transition-colors data-[state=selected]:bg-muted even:bg-[#0F1116] odd:bg-[#11141b] border-b border-[#363636f7] hover:bg-gray-750 text-white\"><td class=\"p-2 align-middle [&amp;:has([role=checkbox])]:pr-0 [&amp;&gt;[role=checkbox]]:translate-y-[2px]\"><div class=\"flex items-center gap-2\"><img alt=\"Pocket\" class=\"w-12 h-12 rounded\" data-nimg=\"1\" decoding=\"async\" height=\"48\" loading=\"lazy\" src=\"/_next/image?url=%2Fpanorama%2Fimages%2Fheroes%2Fsynth_sm_psd.png&amp;w=96&amp;q=75\" srcset=\"/_next/image?url=%2Fpanorama%2Fimages%2Fheroes%2Fsynth_sm_psd.png&amp;w=48&amp;q=75 1x, /_next/image?url=%2Fpanorama%2Fimages%2Fheroes%2Fsynth_sm_psd.png&amp;w=96&amp;q=75 2x\" style=\"color:transparent\" width=\"48\"/><div><span class=\"font-medium\">Pocket</span><div class=\"text-sm text-gray-400\">29936369</div></div></div></td><td class=\"p-2 align-middle [&amp;:has([role=checkbox])]:pr-0 [&amp;&gt;[role=checkbox]]:translate-y-[2px]\"><div class=\"flex flex-col\"><span class=\"text-green-500 font-medium\">Win</span><span class=\"text-sm text-gray-400\">Dec 6, 2024</span></div></td><td class=\"p-2 align-middle [&amp;:has([role=checkbox])]:pr-0 [&amp;&gt;[role=checkbox]]:translate-y-[2px]\"><span class=\"font-medium\">Normal</span></td><td class=\"p-2 align-middle [&amp;:has([role=checkbox])]:pr-0 [&amp;&gt;[role=checkbox]]:translate-y-[2px]\"><div class=\"flex flex-col gap-1\"><span>41<!-- --> min</span><svg height=\"6\" width=\"120\"><rect fill=\"transparent\" height=\"6\" rx=\"3\" ry=\"3\" width=\"120\"></rect><rect fill=\"rgb(108, 136, 182)\" height=\"6\" rx=\"3\" ry=\"3\" width=\"110.364312267658\"></rect></svg></div></td><td class=\"p-2 align-middle [&amp;:has([role=checkbox])]:pr-0 [&amp;&gt;[role=checkbox]]:translate-y-[2px]\"><div class=\"flex flex-col gap-1\"><span class=\"font-medium\">4/6/11</span><svg height=\"6\" width=\"120\"><rect fill=\"rgb(100, 150, 100)\" height=\"6\" rx=\"3\" width=\"22.857142857142854\" x=\"0\" y=\"0\"></rect><rect fill=\"rgb(180, 100, 100)\" height=\"6\" rx=\"3\" width=\"34.285714285714285\" x=\"22.857142857142854\" y=\"0\"></rect><rect fill=\"rgb(120, 120, 120)\" height=\"6\" rx=\"3\" width=\"62.85714285714286\" x=\"57.14285714285714\" y=\"0\"></rect></svg></div></td></tr><tr class=\"transition-colors data-[state=selected]:bg-muted even:bg-[#0F1116] odd:bg-[#11141b] border-b border-[#363636f7] hover:bg-gray-750 text-white\"><td class=\"p-2 align-middle [&amp;:has([role=checkbox])]:pr-0 [&amp;&gt;[role=checkbox]]:translate-y-[2px]\"><div class=\"flex items-center gap-2\"><img alt=\"Yamato\" class=\"w-12 h-12 rounded\" data-nimg=\"1\" decoding=\"async\" height=\"48\" loading=\"lazy\" src=\"/_next/image?url=%2Fpanorama%2Fimages%2Fheroes%2Fyamato_sm_psd.png&amp;w=96&amp;q=75\" srcset=\"/_next/image?url=%2Fpanorama%2Fimages%2Fheroes%2Fyamato_sm_psd.png&amp;w=48&amp;q=75 1x, /_next/image?url=%2Fpanorama%2Fimages%2Fheroes%2Fyamato_sm_psd.png&amp;w=96&amp;q=75 2x\" style=\"color:transparent\" width=\"48\"/><div><span class=\"font-medium\">Yamato</span><div class=\"text-sm text-gray-400\">29887943</div></div></div></td><td class=\"p-2 align-middle [&amp;:has([role=checkbox])]:pr-0 [&amp;&gt;[role=checkbox]]:translate-y-[2px]\"><div class=\"flex flex-col\"><span class=\"text-red-500 font-medium\">Loss</span><span class=\"text-sm text-gray-400\">Dec 5, 2024</span></div></td><td class=\"p-2 align-middle [&amp;:has([role=checkbox])]:pr-0 [&amp;&gt;[role=checkbox]]:translate-y-[2px]\"><span class=\"font-medium\">Normal</span></td><td class=\"p-2 align-middle [&amp;:has([role=checkbox])]:pr-0 [&amp;&gt;[role=checkbox]]:translate-y-[2px]\"><div class=\"flex flex-col gap-1\"><span>42<!-- --> min</span><svg height=\"6\" width=\"120\"><rect fill=\"transparent\" height=\"6\" rx=\"3\" ry=\"3\" width=\"120\"></rect><rect fill=\"rgb(106, 134, 181)\" height=\"6\" rx=\"3\" ry=\"3\" width=\"112.7732342007435\"></rect></svg></div></td><td class=\"p-2 align-middle [&amp;:has([role=checkbox])]:pr-0 [&amp;&gt;[role=checkbox]]:translate-y-[2px]\"><div class=\"flex flex-col gap-1\"><span class=\"font-medium\">3/8/5</span><svg height=\"6\" width=\"120\"><rect fill=\"rgb(100, 150, 100)\" height=\"6\" rx=\"3\" width=\"22.5\" x=\"0\" y=\"0\"></rect><rect fill=\"rgb(180, 100, 100)\" height=\"6\" rx=\"3\" width=\"60\" x=\"22.5\" y=\"0\"></rect><rect fill=\"rgb(120, 120, 120)\" height=\"6\" rx=\"3\" width=\"37.5\" x=\"82.5\" y=\"0\"></rect></svg></div></td></tr><tr class=\"transition-colors data-[state=selected]:bg-muted even:bg-[#0F1116] odd:bg-[#11141b] border-b border-[#363636f7] hover:bg-gray-750 text-white\"><td class=\"p-2 align-middle [&amp;:has([role=checkbox])]:pr-0 [&amp;&gt;[role=checkbox]]:translate-y-[2px]\"><div class=\"flex items-center gap-2\"><img alt=\"Yamato\" class=\"w-12 h-12 rounded\" data-nimg=\"1\" decoding=\"async\" height=\"48\" loading=\"lazy\" src=\"/_next/image?url=%2Fpanorama%2Fimages%2Fheroes%2Fyamato_sm_psd.png&amp;w=96&amp;q=75\" srcset=\"/_next/image?url=%2Fpanorama%2Fimages%2Fheroes%2Fyamato_sm_psd.png&amp;w=48&amp;q=75 1x, /_next/image?url=%2Fpanorama%2Fimages%2Fheroes%2Fyamato_sm_psd.png&amp;w=96&amp;q=75 2x\" style=\"color:transparent\" width=\"48\"/><div><span class=\"font-medium\">Yamato</span><div class=\"text-sm text-gray-400\">29885245</div></div></div></td><td class=\"p-2 align-middle [&amp;:has([role=checkbox])]:pr-0 [&amp;&gt;[role=checkbox]]:translate-y-[2px]\"><div class=\"flex flex-col\"><span class=\"text-green-500 font-medium\">Win</span><span class=\"text-sm text-gray-400\">Dec 5, 2024</span></div></td><td class=\"p-2 align-middle [&amp;:has([role=checkbox])]:pr-0 [&amp;&gt;[role=checkbox]]:translate-y-[2px]\"><span class=\"font-medium\">Normal</span></td><td class=\"p-2 align-middle [&amp;:has([role=checkbox])]:pr-0 [&amp;&gt;[role=checkbox]]:translate-y-[2px]\"><div class=\"flex flex-col gap-1\"><span>28<!-- --> min</span><svg height=\"6\" width=\"120\"><rect fill=\"transparent\" height=\"6\" rx=\"3\" ry=\"3\" width=\"120\"></rect><rect fill=\"rgb(136, 155, 187)\" height=\"6\" rx=\"3\" ry=\"3\" width=\"76.68401486988849\"></rect></svg></div></td><td class=\"p-2 align-middle [&amp;:has([role=checkbox])]:pr-0 [&amp;&gt;[role=checkbox]]:translate-y-[2px]\"><div class=\"flex flex-col gap-1\"><span class=\"font-medium\">3/2/5</span><svg height=\"6\" width=\"120\"><rect fill=\"rgb(100, 150, 100)\" height=\"6\" rx=\"3\" width=\"36\" x=\"0\" y=\"0\"></rect><rect fill=\"rgb(180, 100, 100)\" height=\"6\" rx=\"3\" width=\"24\" x=\"36\" y=\"0\"></rect><rect fill=\"rgb(120, 120, 120)\" height=\"6\" rx=\"3\" width=\"60\" x=\"60\" y=\"0\"></rect></svg></div></td></tr><tr class=\"transition-colors data-[state=selected]:bg-muted even:bg-[#0F1116] odd:bg-[#11141b] border-b border-[#363636f7] hover:bg-gray-750 text-white\"><td class=\"p-2 align-middle [&amp;:has([role=checkbox])]:pr-0 [&amp;&gt;[role=checkbox]]:translate-y-[2px]\"><div class=\"flex items-center gap-2\"><img alt=\"Vindicta\" class=\"w-12 h-12 rounded\" data-nimg=\"1\" decoding=\"async\" height=\"48\" loading=\"lazy\" src=\"/_next/image?url=%2Fpanorama%2Fimages%2Fheroes%2Fhornet_sm_psd.png&amp;w=96&amp;q=75\" srcset=\"/_next/image?url=%2Fpanorama%2Fimages%2Fheroes%2Fhornet_sm_psd.png&amp;w=48&amp;q=75 1x, /_next/image?url=%2Fpanorama%2Fimages%2Fheroes%2Fhornet_sm_psd.png&amp;w=96&amp;q=75 2x\" style=\"color:transparent\" width=\"48\"/><div><span class=\"font-medium\">Vindicta</span><div class=\"text-sm text-gray-400\">29817643</div></div></div></td><td class=\"p-2 align-middle [&amp;:has([role=checkbox])]:pr-0 [&amp;&gt;[role=checkbox]]:translate-y-[2px]\"><div class=\"flex flex-col\"><span class=\"text-green-500 font-medium\">Win</span><span class=\"text-sm text-gray-400\">Dec 4, 2024</span></div></td><td class=\"p-2 align-middle [&amp;:has([role=checkbox])]:pr-0 [&amp;&gt;[role=checkbox]]:translate-y-[2px]\"><span class=\"font-medium\">Normal</span></td><td class=\"p-2 align-middle [&amp;:has([role=checkbox])]:pr-0 [&amp;&gt;[role=checkbox]]:translate-y-[2px]\"><div class=\"flex flex-col gap-1\"><span>35<!-- --> min</span><svg height=\"6\" width=\"120\"><rect fill=\"transparent\" height=\"6\" rx=\"3\" ry=\"3\" width=\"120\"></rect><rect fill=\"rgb(122, 145, 184)\" height=\"6\" rx=\"3\" ry=\"3\" width=\"93.94795539033457\"></rect></svg></div></td><td class=\"p-2 align-middle [&amp;:has([role=checkbox])]:pr-0 [&amp;&gt;[role=checkbox]]:translate-y-[2px]\"><div class=\"flex flex-col gap-1\"><span class=\"font-medium\">4/6/6</span><svg height=\"6\" width=\"120\"><rect fill=\"rgb(100, 150, 100)\" height=\"6\" rx=\"3\" width=\"30\" x=\"0\" y=\"0\"></rect><rect fill=\"rgb(180, 100, 100)\" height=\"6\" rx=\"3\" width=\"45\" x=\"30\" y=\"0\"></rect><rect fill=\"rgb(120, 120, 120)\" height=\"6\" rx=\"3\" width=\"45\" x=\"75\" y=\"0\"></rect></svg></div></td></tr><tr class=\"transition-colors data-[state=selected]:bg-muted even:bg-[#0F1116] odd:bg-[#11141b] border-b border-[#363636f7] hover:bg-gray-750 text-white\"><td class=\"p-2 align-middle [&amp;:has([role=checkbox])]:pr-0 [&amp;&gt;[role=checkbox]]:translate-y-[2px]\"><div class=\"flex items-center gap-2\"><img alt=\"Vindicta\" class=\"w-12 h-12 rounded\" data-nimg=\"1\" decoding=\"async\" height=\"48\" loading=\"lazy\" src=\"/_next/image?url=%2Fpanorama%2Fimages%2Fheroes%2Fhornet_sm_psd.png&amp;w=96&amp;q=75\" srcset=\"/_next/image?url=%2Fpanorama%2Fimages%2Fheroes%2Fhornet_sm_psd.png&amp;w=48&amp;q=75 1x, /_next/image?url=%2Fpanorama%2Fimages%2Fheroes%2Fhornet_sm_psd.png&amp;w=96&amp;q=75 2x\" style=\"color:transparent\" width=\"48\"/><div><span class=\"font-medium\">Vindicta</span><div class=\"text-sm text-gray-400\">29398807</div></div></div></td><td class=\"p-2 align-middle [&amp;:has([role=checkbox])]:pr-0 [&amp;&gt;[role=checkbox]]:translate-y-[2px]\"><div class=\"flex flex-col\"><span class=\"text-green-500 font-medium\">Win</span><span class=\"text-sm text-gray-400\">Nov 29, 2024</span></div></td><td class=\"p-2 align-middle [&amp;:has([role=checkbox])]:pr-0 [&amp;&gt;[role=checkbox]]:translate-y-[2px]\"><span class=\"font-medium\">Normal</span></td><td class=\"p-2 align-middle [&amp;:has([role=checkbox])]:pr-0 [&amp;&gt;[role=checkbox]]:translate-y-[2px]\"><div class=\"flex flex-col gap-1\"><span>49<!-- --> min</span><svg height=\"6\" width=\"120\"><rect fill=\"transparent\" height=\"6\" rx=\"3\" ry=\"3\" width=\"120\"></rect><rect fill=\"rgb(100, 130, 180)\" height=\"6\" rx=\"3\" ry=\"3\" width=\"120\"></rect></svg></div></td><td class=\"p-2 align-middle [&amp;:has([role=checkbox])]:pr-0 [&amp;&gt;[role=checkbox]]:translate-y-[2px]\"><div class=\"flex flex-col gap-1\"><span class=\"font-medium\">9/10/18</span><svg height=\"6\" width=\"120\"><rect fill=\"rgb(100, 150, 100)\" height=\"6\" rx=\"3\" width=\"29.18918918918919\" x=\"0\" y=\"0\"></rect><rect fill=\"rgb(180, 100, 100)\" height=\"6\" rx=\"3\" width=\"32.432432432432435\" x=\"29.18918918918919\" y=\"0\"></rect><rect fill=\"rgb(120, 120, 120)\" height=\"6\" rx=\"3\" width=\"58.37837837837838\" x=\"61.62162162162163\" y=\"0\"></rect></svg></div></td></tr><tr class=\"transition-colors data-[state=selected]:bg-muted even:bg-[#0F1116] odd:bg-[#11141b] border-b border-[#363636f7] hover:bg-gray-750 text-white\"><td class=\"p-2 align-middle [&amp;:has([role=checkbox])]:pr-0 [&amp;&gt;[role=checkbox]]:translate-y-[2px]\"><div class=\"flex items-center gap-2\"><img alt=\"Pocket\" class=\"w-12 h-12 rounded\" data-nimg=\"1\" decoding=\"async\" height=\"48\" loading=\"lazy\" src=\"/_next/image?url=%2Fpanorama%2Fimages%2Fheroes%2Fsynth_sm_psd.png&amp;w=96&amp;q=75\" srcset=\"/_next/image?url=%2Fpanorama%2Fimages%2Fheroes%2Fsynth_sm_psd.png&amp;w=48&amp;q=75 1x, /_next/image?url=%2Fpanorama%2Fimages%2Fheroes%2Fsynth_sm_psd.png&amp;w=96&amp;q=75 2x\" style=\"color:transparent\" width=\"48\"/><div><span class=\"font-medium\">Pocket</span><div class=\"text-sm text-gray-400\">29393694</div></div></div></td><td class=\"p-2 align-middle [&amp;:has([role=checkbox])]:pr-0 [&amp;&gt;[role=checkbox]]:translate-y-[2px]\"><div class=\"flex flex-col\"><span class=\"text-red-500 font-medium\">Loss</span><span class=\"text-sm text-gray-400\">Nov 29, 2024</span></div></td><td class=\"p-2 align-middle [&amp;:has([role=checkbox])]:pr-0 [&amp;&gt;[role=checkbox]]:translate-y-[2px]\"><span class=\"font-medium\">Normal</span></td><td class=\"p-2 align-middle [&amp;:has([role=checkbox])]:pr-0 [&amp;&gt;[role=checkbox]]:translate-y-[2px]\"><div class=\"flex flex-col gap-1\"><span>32<!-- --> min</span><svg height=\"6\" width=\"120\"><rect fill=\"transparent\" height=\"6\" rx=\"3\" ry=\"3\" width=\"120\"></rect><rect fill=\"rgb(128, 150, 186)\" height=\"6\" rx=\"3\" ry=\"3\" width=\"86.09665427509293\"></rect></svg></div></td><td class=\"p-2 align-middle [&amp;:has([role=checkbox])]:pr-0 [&amp;&gt;[role=checkbox]]:translate-y-[2px]\"><div class=\"flex flex-col gap-1\"><span class=\"font-medium\">9/3/12</span><svg height=\"6\" width=\"120\"><rect fill=\"rgb(100, 150, 100)\" height=\"6\" rx=\"3\" width=\"45\" x=\"0\" y=\"0\"></rect><rect fill=\"rgb(180, 100, 100)\" height=\"6\" rx=\"3\" width=\"15\" x=\"45\" y=\"0\"></rect><rect fill=\"rgb(120, 120, 120)\" height=\"6\" rx=\"3\" width=\"60\" x=\"60\" y=\"0\"></rect></svg></div></td></tr><tr class=\"transition-colors data-[state=selected]:bg-muted even:bg-[#0F1116] odd:bg-[#11141b] border-b border-[#363636f7] hover:bg-gray-750 text-white\"><td class=\"p-2 align-middle [&amp;:has([role=checkbox])]:pr-0 [&amp;&gt;[role=checkbox]]:translate-y-[2px]\"><div class=\"flex items-center gap-2\"><img alt=\"Pocket\" class=\"w-12 h-12 rounded\" data-nimg=\"1\" decoding=\"async\" height=\"48\" loading=\"lazy\" src=\"/_next/image?url=%2Fpanorama%2Fimages%2Fheroes%2Fsynth_sm_psd.png&amp;w=96&amp;q=75\" srcset=\"/_next/image?url=%2Fpanorama%2Fimages%2Fheroes%2Fsynth_sm_psd.png&amp;w=48&amp;q=75 1x, /_next/image?url=%2Fpanorama%2Fimages%2Fheroes%2Fsynth_sm_psd.png&amp;w=96&amp;q=75 2x\" style=\"color:transparent\" width=\"48\"/><div><span class=\"font-medium\">Pocket</span><div class=\"text-sm text-gray-400\">29390947</div></div></div></td><td class=\"p-2 align-middle [&amp;:has([role=checkbox])]:pr-0 [&amp;&gt;[role=checkbox]]:translate-y-[2px]\"><div class=\"flex flex-col\"><span class=\"text-red-500 font-medium\">Loss</span><span class=\"text-sm text-gray-400\">Nov 29, 2024</span></div></td><td class=\"p-2 align-middle [&amp;:has([role=checkbox])]:pr-0 [&amp;&gt;[role=checkbox]]:translate-y-[2px]\"><span class=\"font-medium\">Normal</span></td><td class=\"p-2 align-middle [&amp;:has([role=checkbox])]:pr-0 [&amp;&gt;[role=checkbox]]:translate-y-[2px]\"><div class=\"flex flex-col gap-1\"><span>24<!-- --> min</span><svg height=\"6\" width=\"120\"><rect fill=\"transparent\" height=\"6\" rx=\"3\" ry=\"3\" width=\"120\"></rect><rect fill=\"rgb(146, 162, 189)\" height=\"6\" rx=\"3\" ry=\"3\" width=\"64.817843866171\"></rect></svg></div></td><td class=\"p-2 align-middle [&amp;:has([role=checkbox])]:pr-0 [&amp;&gt;[role=checkbox]]:translate-y-[2px]\"><div class=\"flex flex-col gap-1\"><span class=\"font-medium\">1/10/0</span><svg height=\"6\" width=\"120\"><rect fill=\"rgb(100, 150, 100)\" height=\"6\" rx=\"3\" width=\"10.90909090909091\" x=\"0\" y=\"0\"></rect><rect fill=\"rgb(180, 100, 100)\" height=\"6\" rx=\"3\" width=\"109.0909090909091\" x=\"10.90909090909091\" y=\"0\"></rect><rect fill=\"rgb(120, 120, 120)\" height=\"6\" rx=\"3\" width=\"0\" x=\"120\" y=\"0\"></rect></svg></div></td></tr></tbody></table></div><nav aria-label=\"pagination\" class=\"mx-auto flex w-full justify-center mt-4 text-white\" role=\"navigation\"><ul class=\"flex flex-row items-center gap-1\"><li class=\"\"><a aria-label=\"Go to previous page\" class=\"inline-flex items-center justify-center whitespace-nowrap rounded-md text-sm font-medium transition-colors focus-visible:outline-none focus-visible:ring-1 focus-visible:ring-ring disabled:pointer-events-none disabled:opacity-50 hover:bg-accent hover:text-accent-foreground h-9 px-4 py-2 gap-1 pl-2.5 pointer-events-none opacity-50\" href=\"/players/113272695/matches\"><svg class=\"h-4 w-4\" fill=\"none\" height=\"15\" viewbox=\"0 0 15 15\" width=\"15\" xmlns=\"http://www.w3.org/2000/svg\"><path clip-rule=\"evenodd\" d=\"M8.84182 3.13514C9.04327 3.32401 9.05348 3.64042 8.86462 3.84188L5.43521 7.49991L8.86462 11.1579C9.05348 11.3594 9.04327 11.6758 8.84182 11.8647C8.64036 12.0535 8.32394 12.0433 8.13508 11.8419L4.38508 7.84188C4.20477 7.64955 4.20477 7.35027 4.38508 7.15794L8.13508 3.15794C8.32394 2.95648 8.64036 2.94628 8.84182 3.13514Z\" fill=\"currentColor\" fill-rule=\"evenodd\"></path></svg><span>Previous</span></a></li><li class=\"\"><a aria-current=\"page\" class=\"inline-flex items-center justify-center whitespace-nowrap rounded-md text-sm font-medium transition-colors focus-visible:outline-none focus-visible:ring-1 focus-visible:ring-ring disabled:pointer-events-none disabled:opacity-50 border border-input bg-background shadow-sm hover:bg-accent hover:text-accent-foreground h-9 w-9\" href=\"/players/113272695/matches?page=1\">1</a></li><li class=\"\"><a class=\"inline-flex items-center justify-center whitespace-nowrap rounded-md text-sm font-medium transition-colors focus-visible:outline-none focus-visible:ring-1 focus-visible:ring-ring disabled:pointer-events-none disabled:opacity-50 hover:bg-accent hover:text-accent-foreground h-9 w-9\" href=\"/players/113272695/matches?page=2\">2</a></li><span aria-hidden=\"true\" class=\"flex h-9 w-9 items-center justify-center\"><svg class=\"h-4 w-4\" fill=\"none\" height=\"15\" viewbox=\"0 0 15 15\" width=\"15\" xmlns=\"http://www.w3.org/2000/svg\"><path clip-rule=\"evenodd\" d=\"M3.625 7.5C3.625 8.12132 3.12132 8.625 2.5 8.625C1.87868 8.625 1.375 8.12132 1.375 7.5C1.375 6.87868 1.87868 6.375 2.5 6.375C3.12132 6.375 3.625 6.87868 3.625 7.5ZM8.625 7.5C8.625 8.12132 8.12132 8.625 7.5 8.625C6.87868 8.625 6.375 8.12132 6.375 7.5C6.375 6.87868 6.87868 6.375 7.5 6.375C8.12132 6.375 8.625 6.87868 8.625 7.5ZM12.5 8.625C13.1213 8.625 13.625 8.12132 13.625 7.5C13.625 6.87868 13.1213 6.375 12.5 6.375C11.8787 6.375 11.375 6.87868 11.375 7.5C11.375 8.12132 11.8787 8.625 12.5 8.625Z\" fill=\"currentColor\" fill-rule=\"evenodd\"></path></svg><span class=\"sr-only\">More pages</span></span><li class=\"\"><a class=\"inline-flex items-center justify-center whitespace-nowrap rounded-md text-sm font-medium transition-colors focus-visible:outline-none focus-visible:ring-1 focus-visible:ring-ring disabled:pointer-events-none disabled:opacity-50 hover:bg-accent hover:text-accent-foreground h-9 w-9\" href=\"/players/113272695/matches?page=9\">9</a></li><li class=\"\"><a aria-label=\"Go to next page\" class=\"inline-flex items-center justify-center whitespace-nowrap rounded-md text-sm font-medium transition-colors focus-visible:outline-none focus-visible:ring-1 focus-visible:ring-ring disabled:pointer-events-none disabled:opacity-50 hover:bg-accent hover:text-accent-foreground h-9 px-4 py-2 gap-1 pr-2.5\" href=\"/players/113272695/matches?page=2\"><span>Next</span><svg class=\"h-4 w-4\" fill=\"none\" height=\"15\" viewbox=\"0 0 15 15\" width=\"15\" xmlns=\"http://www.w3.org/2000/svg\"><path clip-rule=\"evenodd\" d=\"M6.1584 3.13508C6.35985 2.94621 6.67627 2.95642 6.86514 3.15788L10.6151 7.15788C10.7954 7.3502 10.7954 7.64949 10.6151 7.84182L6.86514 11.8418C6.67627 12.0433 6.35985 12.0535 6.1584 11.8646C5.95694 11.6757 5.94673 11.3593 6.1356 11.1579L9.565 7.49985L6.1356 3.84182C5.94673 3.64036 5.95694 3.32394 6.1584 3.13508Z\" fill=\"currentColor\" fill-rule=\"evenodd\"></path></svg></a></li></ul></nav></div></div></div></div><script>$RS(\"S:3\",\"P:3\")</script><script>$RC=function(b,c,e){c=document.getElementById(c);c.parentNode.removeChild(c);var a=document.getElementById(b);if(a){b=a.previousSibling;if(e)b.data=\"$!\",a.setAttribute(\"data-dgst\",e);else{e=b.parentNode;a=b.nextSibling;var f=0;do{if(a&&8===a.nodeType){var d=a.data;if(\"/$\"===d)if(0===f)break;else f--;else\"$\"!==d&&\"$?\"!==d&&\"$!\"!==d||f++}d=a.nextSibling;e.removeChild(a);a=d}while(a);for(;c.firstChild;)e.insertBefore(c.firstChild,a);b.data=\"$\"}b._reactRetry&&b._reactRetry()}};$RC(\"B:0\",\"S:0\")</script></body></html>"
      ]
     },
     "execution_count": 11,
     "metadata": {},
     "output_type": "execute_result"
    }
   ],
   "source": [
    "soup = BeautifulSoup(res.text, 'html.parser')\n",
    "soup"
   ]
  },
  {
   "cell_type": "code",
   "execution_count": 12,
   "id": "400d4d53-cb30-41b2-9e43-d608ae616cb9",
   "metadata": {},
   "outputs": [],
   "source": [
    "games = soup.findAll(\"tr\", class_=\"transition-colors\")"
   ]
  },
  {
   "cell_type": "code",
   "execution_count": 13,
   "id": "969f9fd4-92b7-41df-ba01-1536f867eaeb",
   "metadata": {},
   "outputs": [
    {
     "data": {
      "text/plain": [
       "<tr class=\"transition-colors data-[state=selected]:bg-muted even:bg-[#0F1116] odd:bg-[#11141b] border-b border-[#363636f7] hover:bg-gray-750 text-white\"><td class=\"p-2 align-middle [&amp;:has([role=checkbox])]:pr-0 [&amp;&gt;[role=checkbox]]:translate-y-[2px]\"><div class=\"flex items-center gap-2\"><img alt=\"Pocket\" class=\"w-12 h-12 rounded\" data-nimg=\"1\" decoding=\"async\" height=\"48\" loading=\"lazy\" src=\"/_next/image?url=%2Fpanorama%2Fimages%2Fheroes%2Fsynth_sm_psd.png&amp;w=96&amp;q=75\" srcset=\"/_next/image?url=%2Fpanorama%2Fimages%2Fheroes%2Fsynth_sm_psd.png&amp;w=48&amp;q=75 1x, /_next/image?url=%2Fpanorama%2Fimages%2Fheroes%2Fsynth_sm_psd.png&amp;w=96&amp;q=75 2x\" style=\"color:transparent\" width=\"48\"/><div><span class=\"font-medium\">Pocket</span><div class=\"text-sm text-gray-400\">29390947</div></div></div></td><td class=\"p-2 align-middle [&amp;:has([role=checkbox])]:pr-0 [&amp;&gt;[role=checkbox]]:translate-y-[2px]\"><div class=\"flex flex-col\"><span class=\"text-red-500 font-medium\">Loss</span><span class=\"text-sm text-gray-400\">Nov 29, 2024</span></div></td><td class=\"p-2 align-middle [&amp;:has([role=checkbox])]:pr-0 [&amp;&gt;[role=checkbox]]:translate-y-[2px]\"><span class=\"font-medium\">Normal</span></td><td class=\"p-2 align-middle [&amp;:has([role=checkbox])]:pr-0 [&amp;&gt;[role=checkbox]]:translate-y-[2px]\"><div class=\"flex flex-col gap-1\"><span>24<!-- --> min</span><svg height=\"6\" width=\"120\"><rect fill=\"transparent\" height=\"6\" rx=\"3\" ry=\"3\" width=\"120\"></rect><rect fill=\"rgb(146, 162, 189)\" height=\"6\" rx=\"3\" ry=\"3\" width=\"64.817843866171\"></rect></svg></div></td><td class=\"p-2 align-middle [&amp;:has([role=checkbox])]:pr-0 [&amp;&gt;[role=checkbox]]:translate-y-[2px]\"><div class=\"flex flex-col gap-1\"><span class=\"font-medium\">1/10/0</span><svg height=\"6\" width=\"120\"><rect fill=\"rgb(100, 150, 100)\" height=\"6\" rx=\"3\" width=\"10.90909090909091\" x=\"0\" y=\"0\"></rect><rect fill=\"rgb(180, 100, 100)\" height=\"6\" rx=\"3\" width=\"109.0909090909091\" x=\"10.90909090909091\" y=\"0\"></rect><rect fill=\"rgb(120, 120, 120)\" height=\"6\" rx=\"3\" width=\"0\" x=\"120\" y=\"0\"></rect></svg></div></td></tr>"
      ]
     },
     "execution_count": 13,
     "metadata": {},
     "output_type": "execute_result"
    }
   ],
   "source": [
    "games[-1]"
   ]
  },
  {
   "cell_type": "markdown",
   "id": "3f955041-cb56-4d46-882a-660c9fe13281",
   "metadata": {},
   "source": [
    "### Find the wins and losses\n",
    "\n",
    "**Losses:**\n",
    "tag = span, class \"text-red-500 font-medium\"\n",
    "\n",
    "**Wins:**\n",
    "tag = span, class \"text-green-500 font-medium\"\n"
   ]
  },
  {
   "cell_type": "code",
   "execution_count": 15,
   "id": "7dcfb2db-96f0-41f9-8d49-6a2618f552d9",
   "metadata": {},
   "outputs": [
    {
     "data": {
      "text/plain": [
       "20"
      ]
     },
     "execution_count": 15,
     "metadata": {},
     "output_type": "execute_result"
    }
   ],
   "source": [
    "# re.compile lets us get both wins and losses, with | -> \"or\"\n",
    "winLoss = soup.findAll(\"span\", class_=re.compile(r\"text-red-500 font-medium|text-green-500 font-medium\")) # works like OR now \n",
    "len(winLoss)"
   ]
  },
  {
   "cell_type": "code",
   "execution_count": 16,
   "id": "a252013a-8463-49db-914b-69bbb4e1727f",
   "metadata": {},
   "outputs": [
    {
     "data": {
      "text/plain": [
       "<span class=\"text-green-500 font-medium\">Win</span>"
      ]
     },
     "execution_count": 16,
     "metadata": {},
     "output_type": "execute_result"
    }
   ],
   "source": [
    "winLoss[0]"
   ]
  },
  {
   "cell_type": "markdown",
   "id": "57ff0ad6-598e-4102-996d-a7214d011714",
   "metadata": {},
   "source": [
    "**save the text in a list:**"
   ]
  },
  {
   "cell_type": "code",
   "execution_count": 18,
   "id": "31875765-c208-444f-b91e-ad082ff918d2",
   "metadata": {},
   "outputs": [
    {
     "data": {
      "text/plain": [
       "['Win',\n",
       " 'Loss',\n",
       " 'Win',\n",
       " 'Loss',\n",
       " 'Win',\n",
       " 'Win',\n",
       " 'Win',\n",
       " 'Loss',\n",
       " 'Win',\n",
       " 'Loss',\n",
       " 'Loss',\n",
       " 'Loss',\n",
       " 'Loss',\n",
       " 'Win',\n",
       " 'Loss',\n",
       " 'Win',\n",
       " 'Win',\n",
       " 'Win',\n",
       " 'Loss',\n",
       " 'Loss']"
      ]
     },
     "execution_count": 18,
     "metadata": {},
     "output_type": "execute_result"
    }
   ],
   "source": [
    "winLossData = []\n",
    "for game in winLoss:\n",
    "    gameStatus = game.text\n",
    "    winLossData.append(gameStatus)\n",
    "winLossData"
   ]
  },
  {
   "cell_type": "markdown",
   "id": "1aad8560-4f10-4523-8baa-e72ebc811646",
   "metadata": {},
   "source": [
    "### Dates: \n",
    "\n",
    "\n",
    "**Dates:**\n",
    "tag = span, class \"text-sm text-gray-400\""
   ]
  },
  {
   "cell_type": "code",
   "execution_count": 20,
   "id": "737f2d1f-446a-47c5-9f25-450c71c5de16",
   "metadata": {},
   "outputs": [
    {
     "data": {
      "text/plain": [
       "<span class=\"text-sm text-gray-400\">Dec 20, 2024</span>"
      ]
     },
     "execution_count": 20,
     "metadata": {},
     "output_type": "execute_result"
    }
   ],
   "source": [
    "dates = soup.findAll(\"span\", class_=\"text-sm text-gray-400\")\n",
    "dates[0]"
   ]
  },
  {
   "cell_type": "markdown",
   "id": "cb2d32f3-e12b-4a18-840f-3bb2af387b8a",
   "metadata": {},
   "source": [
    "**save the dates in a list:**"
   ]
  },
  {
   "cell_type": "code",
   "execution_count": 22,
   "id": "6ee5d61f-a227-47b9-b7c5-c4a2feebb04d",
   "metadata": {},
   "outputs": [
    {
     "data": {
      "text/plain": [
       "['Dec 20, 2024', 'Dec 17, 2024', 'Dec 16, 2024']"
      ]
     },
     "execution_count": 22,
     "metadata": {},
     "output_type": "execute_result"
    }
   ],
   "source": [
    "dateData = []\n",
    "for game in dates:\n",
    "    date = game.text\n",
    "    dateData.append(date)\n",
    "dateData[:3]"
   ]
  },
  {
   "cell_type": "markdown",
   "id": "9b2a3427-db0f-4135-a279-fd660eb4b2a7",
   "metadata": {},
   "source": [
    "### Duration: \n",
    "\n",
    "**Durations:**\n",
    "tag = div, class = flex flex-col gap-1\n",
    "\n",
    "this gets us both the match lenggth and date so we do some sketchy shit, every other."
   ]
  },
  {
   "cell_type": "code",
   "execution_count": 24,
   "id": "8b0890b9-9083-4041-9409-23d8e15538b5",
   "metadata": {},
   "outputs": [
    {
     "data": {
      "text/plain": [
       "<div class=\"flex flex-col gap-1\"><span>29<!-- --> min</span><svg height=\"6\" width=\"120\"><rect fill=\"transparent\" height=\"6\" rx=\"3\" ry=\"3\" width=\"120\"></rect><rect fill=\"rgb(135, 154, 187)\" height=\"6\" rx=\"3\" ry=\"3\" width=\"78.51301115241635\"></rect></svg></div>"
      ]
     },
     "execution_count": 24,
     "metadata": {},
     "output_type": "execute_result"
    }
   ],
   "source": [
    "durations = soup.findAll(\"div\", class_=\"flex flex-col gap-1\")\n",
    "durations[0]"
   ]
  },
  {
   "cell_type": "markdown",
   "id": "bdeed15e-0f22-4dd0-971e-d83136141de0",
   "metadata": {},
   "source": [
    "**save the match lengths in a list:**"
   ]
  },
  {
   "cell_type": "code",
   "execution_count": 26,
   "id": "c05cc7d9-e50f-45c6-aa5a-e28f93b318f2",
   "metadata": {},
   "outputs": [
    {
     "data": {
      "text/plain": [
       "['29 min', '34 min', '24 min', '52 min', '55 min']"
      ]
     },
     "execution_count": 26,
     "metadata": {},
     "output_type": "execute_result"
    }
   ],
   "source": [
    "durationData = []\n",
    "for i, game in enumerate(durations):\n",
    "    if (i % 2 == 0): # every other [VERY SKETCHY FIX]\n",
    "        duration = game.text\n",
    "        durationData.append(duration)\n",
    "durationData[:5]"
   ]
  },
  {
   "cell_type": "markdown",
   "id": "eeb3cc3b-0f03-4c83-9c02-a456e062667a",
   "metadata": {},
   "source": [
    "### Convert to DataFrame"
   ]
  },
  {
   "cell_type": "code",
   "execution_count": 28,
   "id": "827450b6-ea48-44c1-8cb3-b2a5b30fb1a3",
   "metadata": {},
   "outputs": [
    {
     "data": {
      "text/plain": [
       "[['Win/Loss', 'Match length', 'Date played'],\n",
       " ['Win', '29 min', 'Dec 20, 2024'],\n",
       " ['Loss', '34 min', 'Dec 17, 2024'],\n",
       " ['Win', '24 min', 'Dec 16, 2024'],\n",
       " ['Loss', '52 min', 'Dec 10, 2024'],\n",
       " ['Win', '55 min', 'Dec 9, 2024'],\n",
       " ['Win', '16 min', 'Dec 9, 2024'],\n",
       " ['Win', '25 min', 'Dec 9, 2024'],\n",
       " ['Loss', '34 min', 'Dec 7, 2024'],\n",
       " ['Win', '33 min', 'Dec 7, 2024'],\n",
       " ['Loss', '36 min', 'Dec 6, 2024'],\n",
       " ['Loss', '27 min', 'Dec 6, 2024'],\n",
       " ['Loss', '51 min', 'Dec 6, 2024'],\n",
       " ['Loss', '36 min', 'Dec 6, 2024'],\n",
       " ['Win', '41 min', 'Dec 6, 2024'],\n",
       " ['Loss', '42 min', 'Dec 5, 2024'],\n",
       " ['Win', '28 min', 'Dec 5, 2024'],\n",
       " ['Win', '35 min', 'Dec 4, 2024'],\n",
       " ['Win', '49 min', 'Nov 29, 2024'],\n",
       " ['Loss', '32 min', 'Nov 29, 2024'],\n",
       " ['Loss', '24 min', 'Nov 29, 2024']]"
      ]
     },
     "execution_count": 28,
     "metadata": {},
     "output_type": "execute_result"
    }
   ],
   "source": [
    "# traditional loop\n",
    "rows = [[\"Win/Loss\", \"Match length\", \"Date played\"]]# define column names\n",
    "\n",
    "for i, game in enumerate(winLossData):\n",
    "    row = [winLossData[i], durationData[i], dateData[i]]\n",
    "    rows.append(row)\n",
    "rows"
   ]
  },
  {
   "cell_type": "code",
   "execution_count": 29,
   "id": "38e93cea-bdb4-4da5-98dd-a63018fcd00a",
   "metadata": {},
   "outputs": [
    {
     "data": {
      "text/html": [
       "<div>\n",
       "<style scoped>\n",
       "    .dataframe tbody tr th:only-of-type {\n",
       "        vertical-align: middle;\n",
       "    }\n",
       "\n",
       "    .dataframe tbody tr th {\n",
       "        vertical-align: top;\n",
       "    }\n",
       "\n",
       "    .dataframe thead th {\n",
       "        text-align: right;\n",
       "    }\n",
       "</style>\n",
       "<table border=\"1\" class=\"dataframe\">\n",
       "  <thead>\n",
       "    <tr style=\"text-align: right;\">\n",
       "      <th></th>\n",
       "      <th>0</th>\n",
       "      <th>1</th>\n",
       "      <th>2</th>\n",
       "    </tr>\n",
       "  </thead>\n",
       "  <tbody>\n",
       "    <tr>\n",
       "      <th>0</th>\n",
       "      <td>Win/Loss</td>\n",
       "      <td>Match length</td>\n",
       "      <td>Date played</td>\n",
       "    </tr>\n",
       "    <tr>\n",
       "      <th>1</th>\n",
       "      <td>Win</td>\n",
       "      <td>29 min</td>\n",
       "      <td>Dec 20, 2024</td>\n",
       "    </tr>\n",
       "    <tr>\n",
       "      <th>2</th>\n",
       "      <td>Loss</td>\n",
       "      <td>34 min</td>\n",
       "      <td>Dec 17, 2024</td>\n",
       "    </tr>\n",
       "  </tbody>\n",
       "</table>\n",
       "</div>"
      ],
      "text/plain": [
       "          0             1             2\n",
       "0  Win/Loss  Match length   Date played\n",
       "1       Win        29 min  Dec 20, 2024\n",
       "2      Loss        34 min  Dec 17, 2024"
      ]
     },
     "execution_count": 29,
     "metadata": {},
     "output_type": "execute_result"
    }
   ],
   "source": [
    "# create the pandas dataframe \n",
    "df = pd.DataFrame(rows)\n",
    "df.head(3)"
   ]
  },
  {
   "cell_type": "code",
   "execution_count": 30,
   "id": "f50046d7-f016-4bd5-8432-0fd3825a67f8",
   "metadata": {},
   "outputs": [
    {
     "data": {
      "text/html": [
       "<div>\n",
       "<style scoped>\n",
       "    .dataframe tbody tr th:only-of-type {\n",
       "        vertical-align: middle;\n",
       "    }\n",
       "\n",
       "    .dataframe tbody tr th {\n",
       "        vertical-align: top;\n",
       "    }\n",
       "\n",
       "    .dataframe thead th {\n",
       "        text-align: right;\n",
       "    }\n",
       "</style>\n",
       "<table border=\"1\" class=\"dataframe\">\n",
       "  <thead>\n",
       "    <tr style=\"text-align: right;\">\n",
       "      <th></th>\n",
       "      <th>Win/Loss</th>\n",
       "      <th>Match length</th>\n",
       "      <th>Date played</th>\n",
       "    </tr>\n",
       "  </thead>\n",
       "  <tbody>\n",
       "    <tr>\n",
       "      <th>0</th>\n",
       "      <td>Win</td>\n",
       "      <td>29 min</td>\n",
       "      <td>Dec 20, 2024</td>\n",
       "    </tr>\n",
       "    <tr>\n",
       "      <th>1</th>\n",
       "      <td>Loss</td>\n",
       "      <td>34 min</td>\n",
       "      <td>Dec 17, 2024</td>\n",
       "    </tr>\n",
       "    <tr>\n",
       "      <th>2</th>\n",
       "      <td>Win</td>\n",
       "      <td>24 min</td>\n",
       "      <td>Dec 16, 2024</td>\n",
       "    </tr>\n",
       "    <tr>\n",
       "      <th>3</th>\n",
       "      <td>Loss</td>\n",
       "      <td>52 min</td>\n",
       "      <td>Dec 10, 2024</td>\n",
       "    </tr>\n",
       "    <tr>\n",
       "      <th>4</th>\n",
       "      <td>Win</td>\n",
       "      <td>55 min</td>\n",
       "      <td>Dec 9, 2024</td>\n",
       "    </tr>\n",
       "    <tr>\n",
       "      <th>5</th>\n",
       "      <td>Win</td>\n",
       "      <td>16 min</td>\n",
       "      <td>Dec 9, 2024</td>\n",
       "    </tr>\n",
       "    <tr>\n",
       "      <th>6</th>\n",
       "      <td>Win</td>\n",
       "      <td>25 min</td>\n",
       "      <td>Dec 9, 2024</td>\n",
       "    </tr>\n",
       "    <tr>\n",
       "      <th>7</th>\n",
       "      <td>Loss</td>\n",
       "      <td>34 min</td>\n",
       "      <td>Dec 7, 2024</td>\n",
       "    </tr>\n",
       "    <tr>\n",
       "      <th>8</th>\n",
       "      <td>Win</td>\n",
       "      <td>33 min</td>\n",
       "      <td>Dec 7, 2024</td>\n",
       "    </tr>\n",
       "    <tr>\n",
       "      <th>9</th>\n",
       "      <td>Loss</td>\n",
       "      <td>36 min</td>\n",
       "      <td>Dec 6, 2024</td>\n",
       "    </tr>\n",
       "    <tr>\n",
       "      <th>10</th>\n",
       "      <td>Loss</td>\n",
       "      <td>27 min</td>\n",
       "      <td>Dec 6, 2024</td>\n",
       "    </tr>\n",
       "    <tr>\n",
       "      <th>11</th>\n",
       "      <td>Loss</td>\n",
       "      <td>51 min</td>\n",
       "      <td>Dec 6, 2024</td>\n",
       "    </tr>\n",
       "    <tr>\n",
       "      <th>12</th>\n",
       "      <td>Loss</td>\n",
       "      <td>36 min</td>\n",
       "      <td>Dec 6, 2024</td>\n",
       "    </tr>\n",
       "    <tr>\n",
       "      <th>13</th>\n",
       "      <td>Win</td>\n",
       "      <td>41 min</td>\n",
       "      <td>Dec 6, 2024</td>\n",
       "    </tr>\n",
       "    <tr>\n",
       "      <th>14</th>\n",
       "      <td>Loss</td>\n",
       "      <td>42 min</td>\n",
       "      <td>Dec 5, 2024</td>\n",
       "    </tr>\n",
       "    <tr>\n",
       "      <th>15</th>\n",
       "      <td>Win</td>\n",
       "      <td>28 min</td>\n",
       "      <td>Dec 5, 2024</td>\n",
       "    </tr>\n",
       "    <tr>\n",
       "      <th>16</th>\n",
       "      <td>Win</td>\n",
       "      <td>35 min</td>\n",
       "      <td>Dec 4, 2024</td>\n",
       "    </tr>\n",
       "    <tr>\n",
       "      <th>17</th>\n",
       "      <td>Win</td>\n",
       "      <td>49 min</td>\n",
       "      <td>Nov 29, 2024</td>\n",
       "    </tr>\n",
       "    <tr>\n",
       "      <th>18</th>\n",
       "      <td>Loss</td>\n",
       "      <td>32 min</td>\n",
       "      <td>Nov 29, 2024</td>\n",
       "    </tr>\n",
       "    <tr>\n",
       "      <th>19</th>\n",
       "      <td>Loss</td>\n",
       "      <td>24 min</td>\n",
       "      <td>Nov 29, 2024</td>\n",
       "    </tr>\n",
       "  </tbody>\n",
       "</table>\n",
       "</div>"
      ],
      "text/plain": [
       "0  Win/Loss Match length   Date played\n",
       "0       Win       29 min  Dec 20, 2024\n",
       "1      Loss       34 min  Dec 17, 2024\n",
       "2       Win       24 min  Dec 16, 2024\n",
       "3      Loss       52 min  Dec 10, 2024\n",
       "4       Win       55 min   Dec 9, 2024\n",
       "5       Win       16 min   Dec 9, 2024\n",
       "6       Win       25 min   Dec 9, 2024\n",
       "7      Loss       34 min   Dec 7, 2024\n",
       "8       Win       33 min   Dec 7, 2024\n",
       "9      Loss       36 min   Dec 6, 2024\n",
       "10     Loss       27 min   Dec 6, 2024\n",
       "11     Loss       51 min   Dec 6, 2024\n",
       "12     Loss       36 min   Dec 6, 2024\n",
       "13      Win       41 min   Dec 6, 2024\n",
       "14     Loss       42 min   Dec 5, 2024\n",
       "15      Win       28 min   Dec 5, 2024\n",
       "16      Win       35 min   Dec 4, 2024\n",
       "17      Win       49 min  Nov 29, 2024\n",
       "18     Loss       32 min  Nov 29, 2024\n",
       "19     Loss       24 min  Nov 29, 2024"
      ]
     },
     "execution_count": 30,
     "metadata": {},
     "output_type": "execute_result"
    }
   ],
   "source": [
    "# make it prettier\n",
    "df.columns = df.iloc[0] # first row as column names\n",
    "df = df.drop(0).reset_index(drop=True) # remove the row and reset index\n",
    "df"
   ]
  },
  {
   "cell_type": "code",
   "execution_count": 31,
   "id": "bd59bd5b-f4d2-4a87-94a3-9e870b011410",
   "metadata": {},
   "outputs": [
    {
     "name": "stdout",
     "output_type": "stream",
     "text": [
      "describe:\n",
      " 0      Win/Loss Match length  Date played\n",
      "count        20           20           20\n",
      "unique        2           17           10\n",
      "top         Win       36 min  Dec 6, 2024\n",
      "freq         10            2            5\n",
      "\n",
      "shape:\n",
      " (20, 3)\n",
      "\n",
      "type:\n",
      " <class 'pandas.core.frame.DataFrame'>\n"
     ]
    }
   ],
   "source": [
    "# describe, shape, type\n",
    "print(\"describe:\\n\", df.describe(), end=\"\\n\\n\")\n",
    "print(\"shape:\\n\", df.shape, end=\"\\n\\n\")\n",
    "print(\"type:\\n\", type(df))"
   ]
  },
  {
   "cell_type": "code",
   "execution_count": 32,
   "id": "eb2430c6-04a5-4f61-b459-f24eadebcf25",
   "metadata": {},
   "outputs": [
    {
     "name": "stdout",
     "output_type": "stream",
     "text": [
      "55 min\n",
      "16 min\n"
     ]
    }
   ],
   "source": [
    "print(df[\"Match length\"].max())\n",
    "print(df[\"Match length\"].min())"
   ]
  },
  {
   "cell_type": "markdown",
   "id": "d951cf0a-9476-45e0-8055-8108c75afe91",
   "metadata": {},
   "source": [
    "### Export as CSV:"
   ]
  },
  {
   "cell_type": "code",
   "execution_count": 34,
   "id": "4f7037b0-057d-464d-a1c5-e2465f871907",
   "metadata": {},
   "outputs": [
    {
     "name": "stdout",
     "output_type": "stream",
     "text": [
      "appended to csv file\n"
     ]
    }
   ],
   "source": [
    "# create CSV file out of dataframe\n",
    "if (not os.path.exists('my_deadlock_stats-1.csv')): #create new csv\n",
    "    df.to_csv('my_deadlock_stats-1.csv', index=False)\n",
    "    print(\"new csv file created\")\n",
    "else: # append to csv\n",
    "    df.to_csv('my_deadlock_stats-1.csv', mode='a', index=False, header=False) # we dont want to rewrite column titles\n",
    "    print(\"appended to csv file\")"
   ]
  },
  {
   "cell_type": "markdown",
   "id": "d43ce90a-fb0a-4dd3-9e7e-bfb7ab78196c",
   "metadata": {},
   "source": [
    "### Functions for this shit\n",
    "\n",
    "- in order to get many pages\n",
    "- easily control the pulled data"
   ]
  },
  {
   "cell_type": "code",
   "execution_count": 42,
   "id": "72403cd0-f56d-4f2e-8714-a6b9ce0db9df",
   "metadata": {},
   "outputs": [],
   "source": [
    "# pull the data of all available pages and return them as a list of pages\n",
    "def pullTracklockPages(playerId):\n",
    "    \"\"\"pull all available data for given player. Return list of all pages.\"\"\"\n",
    "    # get tracklock page respons with requests \n",
    "    res = requests.get(f\"https://tracklock.gg/players/{playerId}/matches?page=1\")\n",
    "    soup = BeautifulSoup(res.text, 'html.parser')\n",
    "    \n",
    "    # get total pages number\n",
    "    pageNumbers = soup.findAll(\"li\")\n",
    "    totalPageNumber = int(pageNumbers[-2].text)\n",
    "    print(\"total pages to import:\", totalPageNumber)\n",
    "    \n",
    "    # get all pages\n",
    "    allPages = []\n",
    "    for pageNumber in range(1, totalPageNumber + 1):\n",
    "        res = requests.get(f\"https://tracklock.gg/players/{playerId}/matches?page={pageNumber}\")\n",
    "        \n",
    "        print(\"Page\", pageNumber, \"was pulled.\")\n",
    "        \n",
    "        soup = BeautifulSoup(res.text, 'html.parser')\n",
    "        allPages.append(soup)\n",
    "    return allPages"
   ]
  },
  {
   "cell_type": "code",
   "execution_count": 44,
   "id": "cf637c80-34c3-4dec-a2fc-6ed1356409a3",
   "metadata": {},
   "outputs": [
    {
     "name": "stdout",
     "output_type": "stream",
     "text": [
      "total pages to import: 9\n",
      "Page 1 was pulled.\n",
      "Page 2 was pulled.\n",
      "Page 3 was pulled.\n",
      "Page 4 was pulled.\n",
      "Page 5 was pulled.\n",
      "Page 6 was pulled.\n",
      "Page 7 was pulled.\n",
      "Page 8 was pulled.\n",
      "Page 9 was pulled.\n"
     ]
    }
   ],
   "source": [
    "# pull data for gerorge and save as variable\n",
    "allPagesData = pullTracklockPages(113272695) "
   ]
  },
  {
   "cell_type": "code",
   "execution_count": 46,
   "id": "bbed3bf6-0eec-46f6-a903-82ef78f51161",
   "metadata": {},
   "outputs": [
    {
     "data": {
      "text/plain": [
       "9"
      ]
     },
     "execution_count": 46,
     "metadata": {},
     "output_type": "execute_result"
    }
   ],
   "source": [
    "len(allPagesData)"
   ]
  },
  {
   "cell_type": "code",
   "execution_count": 143,
   "id": "dda588b5-189e-418e-8c10-61a24a87f230",
   "metadata": {},
   "outputs": [],
   "source": [
    "# function for getting the data from the pages\n",
    "def scrapeTracklock(pages):\n",
    "    \"\"\"Scrape the data of of the pages that are given. Return \"\"\"\n",
    "    # WINS & LOSSES = winLossData[]\n",
    "    for page in pages:\n",
    "        # re.compile lets us get both wins and losses, with | -> \"or\"\n",
    "        winLoss = soup.findAll(\"span\", class_=re.compile(r\"text-red-500 font-medium|text-green-500 font-medium\")) # works like OR now \n",
    "    winLossData = []\n",
    "    for game in winLoss:\n",
    "        gameStatus = game.text\n",
    "        winLossData.append(gameStatus)\n",
    "        \n",
    "    # GAME PLAYED ON DATE = dateData[]\n",
    "    for page in pages:\n",
    "        dates = soup.findAll(\"span\", class_=\"text-sm text-gray-400\")\n",
    "    # remove unnecessary HTMl from each date in the list\n",
    "    for i, date in enumerate(dates): \n",
    "        dateData[i] = date.text\n",
    "        \n",
    "    # MATCH DURATION = durationData[]\n",
    "    durations = soup.findAll(\"div\", class_=\"flex flex-col gap-1\")\n",
    "    durationData = []\n",
    "    for i, game in enumerate(durations):\n",
    "        if (i % 2 == 0): # every other [VERY SKETCHY FIX]\n",
    "            duration = game.text\n",
    "            durationData.append(duration)\n",
    "    \n",
    "    return winLossData, dateData, durationData\n"
   ]
  },
  {
   "cell_type": "code",
   "execution_count": 145,
   "id": "c31df840-f540-404e-8e5f-74af34f83cf5",
   "metadata": {},
   "outputs": [
    {
     "data": {
      "text/plain": [
       "(['Win',\n",
       "  'Loss',\n",
       "  'Win',\n",
       "  'Loss',\n",
       "  'Win',\n",
       "  'Win',\n",
       "  'Win',\n",
       "  'Loss',\n",
       "  'Win',\n",
       "  'Loss',\n",
       "  'Loss',\n",
       "  'Loss',\n",
       "  'Loss',\n",
       "  'Win',\n",
       "  'Loss',\n",
       "  'Win',\n",
       "  'Win',\n",
       "  'Win',\n",
       "  'Loss',\n",
       "  'Loss'],\n",
       " ['Dec 20, 2024',\n",
       "  'Dec 17, 2024',\n",
       "  'Dec 16, 2024',\n",
       "  'Dec 10, 2024',\n",
       "  'Dec 9, 2024',\n",
       "  'Dec 9, 2024',\n",
       "  'Dec 9, 2024',\n",
       "  'Dec 7, 2024',\n",
       "  'Dec 7, 2024',\n",
       "  'Dec 6, 2024',\n",
       "  'Dec 6, 2024',\n",
       "  'Dec 6, 2024',\n",
       "  'Dec 6, 2024',\n",
       "  'Dec 6, 2024',\n",
       "  'Dec 5, 2024',\n",
       "  'Dec 5, 2024',\n",
       "  'Dec 4, 2024',\n",
       "  'Nov 29, 2024',\n",
       "  'Nov 29, 2024',\n",
       "  'Nov 29, 2024'],\n",
       " ['29 min',\n",
       "  '34 min',\n",
       "  '24 min',\n",
       "  '52 min',\n",
       "  '55 min',\n",
       "  '16 min',\n",
       "  '25 min',\n",
       "  '34 min',\n",
       "  '33 min',\n",
       "  '36 min',\n",
       "  '27 min',\n",
       "  '51 min',\n",
       "  '36 min',\n",
       "  '41 min',\n",
       "  '42 min',\n",
       "  '28 min',\n",
       "  '35 min',\n",
       "  '49 min',\n",
       "  '32 min',\n",
       "  '24 min'])"
      ]
     },
     "execution_count": 145,
     "metadata": {},
     "output_type": "execute_result"
    }
   ],
   "source": [
    "fullData = scrapeTracklock(allPagesData)\n",
    "fullData"
   ]
  },
  {
   "cell_type": "markdown",
   "id": "5e59f89b-8f49-4817-a326-671ccfb4c237",
   "metadata": {},
   "source": [
    "### CONTINUE:\n",
    "\n",
    "add to scrapeTracklock() more data pulled, \n",
    "\n",
    "copy same things as already done!"
   ]
  },
  {
   "cell_type": "code",
   "execution_count": null,
   "id": "fa890605-2064-4110-afe0-a5d07db7f605",
   "metadata": {},
   "outputs": [],
   "source": []
  }
 ],
 "metadata": {
  "kernelspec": {
   "display_name": "Python 3 (ipykernel)",
   "language": "python",
   "name": "python3"
  },
  "language_info": {
   "codemirror_mode": {
    "name": "ipython",
    "version": 3
   },
   "file_extension": ".py",
   "mimetype": "text/x-python",
   "name": "python",
   "nbconvert_exporter": "python",
   "pygments_lexer": "ipython3",
   "version": "3.12.4"
  }
 },
 "nbformat": 4,
 "nbformat_minor": 5
}
